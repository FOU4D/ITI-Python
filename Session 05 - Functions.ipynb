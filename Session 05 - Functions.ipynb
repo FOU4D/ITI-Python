{
 "cells": [
  {
   "cell_type": "markdown",
   "metadata": {
    "nbgrader": {
     "grade": true,
     "grade_id": "cell-e01f27d7dcf15b4c",
     "locked": false,
     "points": 0,
     "schema_version": 3,
     "solution": true,
     "task": false
    }
   },
   "source": [
    "<img src=\"https://drive.google.com/uc?id=1v7YY_rNBU2OMaPnbUGmzaBj3PUeddxrw\" alt=\"ITI MCIT EPITA\" style=\"width: 750px;\"/>"
   ]
  },
  {
   "cell_type": "markdown",
   "metadata": {},
   "source": [
    "<img src=\"https://drive.google.com/uc?id=1R0-FYpJQW5YFy6Yv-RZ1rpyBslay0251\" alt=\"Python Logo\" style=\"width: 400px;\"/>\n",
    "\n",
    "-----\n",
    "\n",
    "# Functions"
   ]
  },
  {
   "cell_type": "markdown",
   "metadata": {},
   "source": [
    "By: **Mohamed Fouad Fakhruldeen**, mohamed.fakhruldeen@epita.fr"
   ]
  },
  {
   "cell_type": "raw",
   "metadata": {},
   "source": [
    "def function_name(parameters):\n",
    "\t\"\"\"\n",
    "    docstring\n",
    "    \"\"\"\n",
    "\t<statement>"
   ]
  },
  {
   "cell_type": "markdown",
   "metadata": {},
   "source": [
    "1. def keyword means defining the following function\n",
    "2. function_name same as variable names\n",
    "3. (): parenthesis and semi-colon\n",
    "4. optional parameters\n",
    "5. docstring to help you and other programmers understand the function\n",
    "6. statement of the function, what it will do"
   ]
  },
  {
   "cell_type": "code",
   "execution_count": 9,
   "metadata": {},
   "outputs": [
    {
     "name": "stdout",
     "output_type": "stream",
     "text": [
      "Hello from a function\n",
      "\n",
      "    this is docstring for my_function\n",
      "    \n",
      "No Python documentation found for 'my_function()'.\n",
      "Use help() to get the interactive help utility.\n",
      "Use help(str) for help on the str class.\n",
      "\n",
      "None\n"
     ]
    }
   ],
   "source": [
    "def my_function(): #defining the function with no paramaters \n",
    "    \"\"\"\n",
    "    this is docstring for my_function\n",
    "    \"\"\"\n",
    "    print(\"Hello from a function\") \n",
    "\n",
    "my_function() #calling the function\n",
    "print(my_function.__doc__)"
   ]
  },
  {
   "cell_type": "markdown",
   "metadata": {},
   "source": [
    "### parameters"
   ]
  },
  {
   "cell_type": "code",
   "execution_count": 4,
   "metadata": {},
   "outputs": [
    {
     "name": "stdout",
     "output_type": "stream",
     "text": [
      "7\n"
     ]
    }
   ],
   "source": [
    "def my_sum(x,y):\n",
    "    return x + y\n",
    "    # print(x + y)\n",
    "x = my_sum(3,4)\n",
    "print(x)"
   ]
  },
  {
   "cell_type": "markdown",
   "metadata": {},
   "source": [
    "#### Default Parameter Value"
   ]
  },
  {
   "cell_type": "code",
   "execution_count": 6,
   "metadata": {},
   "outputs": [
    {
     "name": "stdout",
     "output_type": "stream",
     "text": [
      "12\n",
      "85\n"
     ]
    }
   ],
   "source": [
    "def my_mult(x, y=1):\n",
    "    return x*y\n",
    "\n",
    "print(my_mult(3,4))\n",
    "print(my_mult(85))"
   ]
  },
  {
   "cell_type": "markdown",
   "metadata": {},
   "source": [
    "#### keyword parameter"
   ]
  },
  {
   "cell_type": "code",
   "execution_count": 15,
   "metadata": {},
   "outputs": [
    {
     "name": "stdout",
     "output_type": "stream",
     "text": [
      "Mohamed fakhruldeen\n",
      "Ahmed Mohamed\n",
      "Mohamed Fouad\n",
      "Ali fakhruldeen\n",
      "Mohamed Fouad\n"
     ]
    }
   ],
   "source": [
    "def my_name(fname=\"Mohamed\", lname=\"fakhruldeen\"):\n",
    "    print(fname + \" \" + lname)\n",
    "    \n",
    "my_name()\n",
    "my_name(\"Ahmed\",\"Mohamed\")\n",
    "my_name(lname=\"Fouad\", fname=\"Mohamed\")\n",
    "my_name(\"Ali\")\n",
    "my_name(lname=\"Fouad\")"
   ]
  },
  {
   "cell_type": "markdown",
   "metadata": {},
   "source": [
    "#### Arbitrary Arguments *args "
   ]
  },
  {
   "cell_type": "code",
   "execution_count": 17,
   "metadata": {},
   "outputs": [
    {
     "name": "stdout",
     "output_type": "stream",
     "text": [
      "<class 'tuple'>\n",
      "Hello Ahmed\n",
      "Hello Mohamed\n",
      "Hello Mahmoud\n",
      "Hello Marwa\n",
      "Hello Mona\n"
     ]
    }
   ],
   "source": [
    "def my_function(*args):\n",
    "    print(type(args))\n",
    "    for name in args:\n",
    "        print(\"Hello\", name)\n",
    "        \n",
    "my_function(\"Ahmed\", \"Mohamed\", \"Mahmoud\", \"Marwa\", \"Mona\")"
   ]
  },
  {
   "cell_type": "markdown",
   "metadata": {},
   "source": [
    "#### keywords args **kwargs"
   ]
  },
  {
   "cell_type": "code",
   "execution_count": 20,
   "metadata": {},
   "outputs": [
    {
     "name": "stdout",
     "output_type": "stream",
     "text": [
      "<class 'dict'>\n",
      "father = Ahmed\n",
      "daughter = Aliaa\n",
      "son = Mohamed\n"
     ]
    }
   ],
   "source": [
    "def my_family(**kwargs): \n",
    "    print(type(kwargs))\n",
    "    for key, value in kwargs.items():\n",
    "        print (\"%s = %s\" %(key, value))\n",
    "  \n",
    "my_family(father ='Ahmed', daughter ='Aliaa', son='Mohamed')  "
   ]
  },
  {
   "cell_type": "code",
   "execution_count": 38,
   "metadata": {},
   "outputs": [
    {
     "name": "stdout",
     "output_type": "stream",
     "text": [
      "args:  ('Ahmed', 'Ali')\n",
      "kwargs:  {'first': 'fist keyword', 'mid': 'middle keyword', 'last': 'last keyword'}\n",
      "args:  ('Ahmed', 'Ali')\n",
      "kwargs:  {}\n",
      "args:  ()\n",
      "kwargs:  {'first': 'fist keyword', 'mid': 'middle keyword', 'last': 'last keyword'}\n"
     ]
    }
   ],
   "source": [
    "def myFun(*args,**kwargs):\n",
    "    print(\"args: \", args)\n",
    "    print(\"kwargs: \", kwargs)\n",
    "\n",
    "myFun('Ahmed','Ali',first=\"fist keyword\",mid=\"middle keyword\",last=\"last keyword\")\n",
    "myFun('Ahmed','Ali')\n",
    "myFun(first=\"fist keyword\",mid=\"middle keyword\",last=\"last keyword\")"
   ]
  },
  {
   "cell_type": "markdown",
   "metadata": {},
   "source": [
    "#### recursion"
   ]
  },
  {
   "cell_type": "code",
   "execution_count": 23,
   "metadata": {},
   "outputs": [
    {
     "data": {
      "text/plain": [
       "523022617466601111760007224100074291200000000"
      ]
     },
     "execution_count": 23,
     "metadata": {},
     "output_type": "execute_result"
    }
   ],
   "source": [
    "def my_factorial(x):\n",
    "    if x == 1:\n",
    "        return 1\n",
    "    else:\n",
    "        return (x * my_factorial(x-1))\n",
    "\n",
    "my_factorial(38)"
   ]
  },
  {
   "cell_type": "markdown",
   "metadata": {},
   "source": [
    "### Anonymous/Lambda Function"
   ]
  },
  {
   "cell_type": "raw",
   "metadata": {},
   "source": [
    "lambda arguments: expression ###only one expression and any number of arguments"
   ]
  },
  {
   "cell_type": "code",
   "execution_count": 24,
   "metadata": {},
   "outputs": [
    {
     "data": {
      "text/plain": [
       "6"
      ]
     },
     "execution_count": 24,
     "metadata": {},
     "output_type": "execute_result"
    }
   ],
   "source": [
    "my_double = lambda x: x * 2\n",
    "\n",
    "my_double(3)"
   ]
  },
  {
   "cell_type": "markdown",
   "metadata": {},
   "source": [
    "## variable scope"
   ]
  },
  {
   "cell_type": "code",
   "execution_count": 26,
   "metadata": {},
   "outputs": [
    {
     "name": "stdout",
     "output_type": "stream",
     "text": [
      "x inside: local\n",
      "x outside: global\n"
     ]
    }
   ],
   "source": [
    "x = \"global\"\n",
    "\n",
    "def foo():\n",
    "    x = \"local\"\n",
    "    print(\"x inside:\", x)\n",
    "\n",
    "foo()\n",
    "print(\"x outside:\", x)"
   ]
  },
  {
   "cell_type": "markdown",
   "metadata": {},
   "source": [
    "#### global"
   ]
  },
  {
   "cell_type": "code",
   "execution_count": 30,
   "metadata": {},
   "outputs": [
    {
     "name": "stdout",
     "output_type": "stream",
     "text": [
      "global x \n",
      "global x global x \n",
      "local y\n",
      "global x global x \n"
     ]
    }
   ],
   "source": [
    "x = \"global x \"\n",
    "print(x)\n",
    "def foo():\n",
    "    global x\n",
    "    y = \"local y\"\n",
    "    x = x * 2\n",
    "    print(x)\n",
    "    print(y)\n",
    "\n",
    "foo()\n",
    "print(x)"
   ]
  },
  {
   "cell_type": "markdown",
   "metadata": {},
   "source": [
    "#### nonlocal"
   ]
  },
  {
   "cell_type": "code",
   "execution_count": 34,
   "metadata": {},
   "outputs": [
    {
     "name": "stdout",
     "output_type": "stream",
     "text": [
      "local\n",
      "inner: nonlocal\n",
      "outer: nonlocal\n"
     ]
    }
   ],
   "source": [
    "def outer():\n",
    "    x = \"local\"\n",
    "    print(x)\n",
    "    def inner():\n",
    "        nonlocal x\n",
    "        x = \"nonlocal\"\n",
    "        print(\"inner:\", x)\n",
    "\n",
    "    inner()\n",
    "    print(\"outer:\", x)\n",
    "\n",
    "\n",
    "outer()"
   ]
  },
  {
   "cell_type": "code",
   "execution_count": null,
   "metadata": {},
   "outputs": [],
   "source": []
  }
 ],
 "metadata": {
  "kernelspec": {
   "display_name": "Python 3",
   "language": "python",
   "name": "python3"
  },
  "language_info": {
   "codemirror_mode": {
    "name": "ipython",
    "version": 3
   },
   "file_extension": ".py",
   "mimetype": "text/x-python",
   "name": "python",
   "nbconvert_exporter": "python",
   "pygments_lexer": "ipython3",
   "version": "3.8.8"
  }
 },
 "nbformat": 4,
 "nbformat_minor": 4
}
