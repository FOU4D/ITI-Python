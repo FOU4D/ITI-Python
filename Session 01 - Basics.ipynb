{
 "cells": [
  {
   "cell_type": "markdown",
   "metadata": {
    "slideshow": {
     "slide_type": "slide"
    },
    "tags": [
     "Header"
    ]
   },
   "source": [
    "<img src=\"https://drive.google.com/uc?id=1v7YY_rNBU2OMaPnbUGmzaBj3PUeddxrw\" alt=\"ITI MCIT EPITA\" style=\"width: 750px;\"/>\n",
    "\n",
    "---"
   ]
  },
  {
   "cell_type": "markdown",
   "metadata": {
    "slideshow": {
     "slide_type": "subslide"
    }
   },
   "source": [
    "<img src=\"https://drive.google.com/uc?id=1R0-FYpJQW5YFy6Yv-RZ1rpyBslay0251\" alt=\"Python Logo\" style=\"width: 400px;\"/>"
   ]
  },
  {
   "cell_type": "markdown",
   "metadata": {
    "slideshow": {
     "slide_type": "subslide"
    },
    "tags": [
     "Header"
    ]
   },
   "source": [
    "# Introduction To Python \n",
    "## Session 01 : The Basics\n",
    "\n",
    "By: **Mohamed Fouad Fakhruldeen**, mohamed.fakhruldeen@epita.fr\n",
    "___\n",
    "\n"
   ]
  },
  {
   "cell_type": "markdown",
   "metadata": {
    "slideshow": {
     "slide_type": "slide"
    }
   },
   "source": [
    "### Intro\n",
    "\n",
    "* the language is named after the BBC show “Monty Python’s Flying Circus”\n",
    "* Implementation started by *Guido van Rossum* in December 1989\n",
    "* first released in 1991 \n",
    "* Python 3.0, released in 2008\n",
    "* only Python 3.6 and later are supported, other versions reached EOL support\n",
    "* ranked third on [TIOBE index Jan 2021](https://www.tiobe.com/tiobe-index/python/)\n",
    "* Python is [TIOBE's Programming Language of 2020!](https://www.tiobe.com/tiobe-index/)\n",
    "* Nowadays it is the favorite language in fields such as data science and machine learning,"
   ]
  },
  {
   "cell_type": "markdown",
   "metadata": {
    "slideshow": {
     "slide_type": "subslide"
    }
   },
   "source": [
    "<img src=\"https://drive.google.com/uc?id=1z3Rertrt2480lecPTMuKDW5XOsfuTE_o\" alt=\"Python Logo\" style=\"width: 75%;\"/>\n",
    "\n",
    "\n",
    "\n",
    "**further reading:**\n",
    "* [[https://python-history.blogspot.com/2009/01/brief-timeline-of-python.html]](https://python-history.blogspot.com/2009/01/brief-timeline-of-python.html)\n",
    "\n",
    "----"
   ]
  },
  {
   "cell_type": "markdown",
   "metadata": {
    "slideshow": {
     "slide_type": "slide"
    }
   },
   "source": [
    "#### Why to Learn Python?"
   ]
  },
  {
   "cell_type": "markdown",
   "metadata": {
    "slideshow": {
     "slide_type": "subslide"
    }
   },
   "source": [
    "* Simple language which means that It's easy to learn and implement.\n",
    "* Python is a dynamic language\n",
    "    * reduces complexity so you can implement functionality with less code.\n",
    "    * it is faster for development when compared to other static type language\n",
    "* allowing developers to test machine learning algorithms faster.\n",
    "* Python is Platform independent, available on Windows, Mac OS X, and Unix operating systems\n",
    "* It comes with a large collection of standard modules that you can use as the basis of your programs\n",
    "    * Some of these modules provide things like file I/O, system calls, sockets, and even interfaces to graphical user interface toolkits like Tk"
   ]
  },
  {
   "cell_type": "markdown",
   "metadata": {
    "slideshow": {
     "slide_type": "subslide"
    }
   },
   "source": [
    "* the high-level data types allow you to express complex operations in a single statement;\n",
    "* statement grouping is done by indentation instead of beginning and ending brackets;\n",
    "* no variable or argument declarations are necessary."
   ]
  },
  {
   "cell_type": "markdown",
   "metadata": {
    "slideshow": {
     "slide_type": "subslide"
    }
   },
   "source": [
    "* A great library ecosystem [PyPi.org/](https://pypi.org/)\n",
    "    * [Scikit-learn](http://scikit-learn.org/stable/user_guide.html) for basic ML algorithms like clustering, linear and logistic regressions, regression, classification.\n",
    "    * [Pandas](https://pandas.pydata.org/) for high-level data structures and analysis. \n",
    "    * [Keras](https://keras.io/) for deep learning.\n",
    "    * [TensorFlow](https://www.tensorflow.org/) for working with deep learning by setting up, training, and utilizing artificial neural networks with massive datasets.\n",
    "    * [Matplotlib](https://matplotlib.org/tutorials/index.html) for creating 2D plots, histograms, charts, and other forms of visualization\n",
    "    * .... and more, a lot more."
   ]
  },
  {
   "cell_type": "markdown",
   "metadata": {
    "slideshow": {
     "slide_type": "subslide"
    }
   },
   "source": [
    "* Python is an open source language with strong community support built around the programming language.\n",
    "    * [docs.python.org](https://docs.python.org)\n",
    "    * [discuss.python.org](https://discuss.python.org)\n",
    "    * [stackoverflow](https://stackoverflow.com/questions/tagged/python)\n",
    "    * [medium.com](https://medium.com)\n",
    "    * [Dev.to](https://dev.to)\n",
    "\n",
    "**further reading:**\n",
    "* [https://docs.python.org/3/tutorial/appetite.html](https://docs.python.org/3/tutorial/appetite.html)\n",
    "\n",
    "---"
   ]
  },
  {
   "cell_type": "markdown",
   "metadata": {
    "slideshow": {
     "slide_type": "slide"
    }
   },
   "source": [
    "### First Block of Code"
   ]
  },
  {
   "cell_type": "markdown",
   "metadata": {
    "slideshow": {
     "slide_type": "subslide"
    }
   },
   "source": [
    "#### Shebang/HashBang"
   ]
  },
  {
   "cell_type": "markdown",
   "metadata": {
    "slideshow": {
     "slide_type": "subslide"
    }
   },
   "source": [
    "**scripts are not compiled**\n",
    "\n",
    "The first line in this file is the \"shebang\" line. When you execute a file from the shell, the shell tries to run the file using the command specified on the shebang line.\n",
    "\n",
    "```{python}\n",
    "#! /usr/bin/python\n",
    "#! /usr/bin/env python\n",
    "#! /usr/local/bin/python\n",
    "#! python\n",
    "```\n",
    "\n",
    "we need to tell the shell three things:\n",
    "\n",
    "1. That the file is a script\n",
    "2. Which interpreter we want to execute the script\n",
    "3. The path of said interpreter\n",
    "\n",
    "```#!/usr/bin/env python``` will use the first version of Python it finds in the user's Path, we can moderate this behaviour by specifying a version number such as ```#!/usr/bin/env pythonX.x```\n",
    "\n",
    "\n",
    "#### 1 Comments & Always commenting\n",
    "\n",
    "do good for yourself and others and always comment whenever you add something new to code.\n",
    "in Python, comment starts with # hash mark\n",
    "\n",
    "``` # This is a comment. ``` \n",
    "\n",
    "and \n",
    "\n",
    "```python\n",
    "# This is  \n",
    "# a multi-line  \n",
    "# comment.\n",
    "```\n",
    "you can also wrap your multi-line comment inside a set of triple quotes\n",
    "\n",
    "```python\n",
    "    \"\"\"\n",
    "    This is  \n",
    "    a multi-line  \n",
    "    comment.\n",
    "    \"\"\"\n",
    "```\n",
    "but this isn’t technically a comment. It’s a string that’s not assigned to any variable!\n",
    "and remember where you place them as they could turn into *docstrings*, which are pieces of documentation that are associated with a function or method.\n",
    "\n",
    "let's test it"
   ]
  },
  {
   "cell_type": "code",
   "execution_count": 1,
   "metadata": {},
   "outputs": [
    {
     "name": "stdout",
     "output_type": "stream",
     "text": [
      "Hello, World!\n"
     ]
    }
   ],
   "source": [
    "# This is Hello, World!.\n",
    "print(\"Hello, World!\")  # even here it won't be shown\n",
    "# print(\"This sentence won't be shown up\")"
   ]
  },
  {
   "cell_type": "markdown",
   "metadata": {},
   "source": [
    "### run your first python script\n"
   ]
  },
  {
   "cell_type": "raw",
   "metadata": {},
   "source": [
    "mohamed@fou4d-ubuntu:~$ which python3\n",
    "/usr/bin/python3"
   ]
  },
  {
   "cell_type": "markdown",
   "metadata": {},
   "source": [
    "hello.py file content"
   ]
  },
  {
   "cell_type": "raw",
   "metadata": {},
   "source": [
    "#!/usr/bin/env python3\n",
    "\n",
    "print(\"Hello World\")"
   ]
  },
  {
   "cell_type": "raw",
   "metadata": {},
   "source": [
    "mohamed@fou4d-ubuntu:~$ python3 hello.py \n",
    "Hello World\n",
    "mohamed@fou4d-ubuntu:~$ "
   ]
  },
  {
   "cell_type": "markdown",
   "metadata": {},
   "source": [
    "#### 2 Arithmetic Operators\n",
    "\n",
    "simple arithmetic operations can be done directly "
   ]
  },
  {
   "cell_type": "code",
   "execution_count": 2,
   "metadata": {},
   "outputs": [
    {
     "data": {
      "text/plain": [
       "9"
      ]
     },
     "execution_count": 2,
     "metadata": {},
     "output_type": "execute_result"
    }
   ],
   "source": [
    "# Addition\n",
    "5 + 4"
   ]
  },
  {
   "cell_type": "code",
   "execution_count": 3,
   "metadata": {},
   "outputs": [
    {
     "data": {
      "text/plain": [
       "-10"
      ]
     },
     "execution_count": 3,
     "metadata": {},
     "output_type": "execute_result"
    }
   ],
   "source": [
    "# Subtraction\n",
    "2 - 12"
   ]
  },
  {
   "cell_type": "code",
   "execution_count": 4,
   "metadata": {},
   "outputs": [
    {
     "data": {
      "text/plain": [
       "81"
      ]
     },
     "execution_count": 4,
     "metadata": {},
     "output_type": "execute_result"
    }
   ],
   "source": [
    "# Multiplication\n",
    "3 * 27"
   ]
  },
  {
   "cell_type": "code",
   "execution_count": 5,
   "metadata": {},
   "outputs": [
    {
     "data": {
      "text/plain": [
       "16"
      ]
     },
     "execution_count": 5,
     "metadata": {},
     "output_type": "execute_result"
    }
   ],
   "source": [
    "# power / Exponentiation\n",
    "2 ** 4"
   ]
  },
  {
   "cell_type": "code",
   "execution_count": 6,
   "metadata": {},
   "outputs": [
    {
     "data": {
      "text/plain": [
       "2.5"
      ]
     },
     "execution_count": 6,
     "metadata": {},
     "output_type": "execute_result"
    }
   ],
   "source": [
    "# Division\n",
    "5 / 2"
   ]
  },
  {
   "cell_type": "code",
   "execution_count": 7,
   "metadata": {},
   "outputs": [
    {
     "data": {
      "text/plain": [
       "2"
      ]
     },
     "execution_count": 7,
     "metadata": {},
     "output_type": "execute_result"
    }
   ],
   "source": [
    "# round down division\n",
    "5 // 2"
   ]
  },
  {
   "cell_type": "code",
   "execution_count": 8,
   "metadata": {},
   "outputs": [
    {
     "data": {
      "text/plain": [
       "4"
      ]
     },
     "execution_count": 8,
     "metadata": {},
     "output_type": "execute_result"
    }
   ],
   "source": [
    "# Modulus\n",
    "18 % 7"
   ]
  },
  {
   "cell_type": "code",
   "execution_count": 44,
   "metadata": {},
   "outputs": [
    {
     "data": {
      "text/plain": [
       "5.0"
      ]
     },
     "execution_count": 44,
     "metadata": {},
     "output_type": "execute_result"
    }
   ],
   "source": [
    "8 - 6 * 2 + (8/4) + 7 \n",
    "#13  gouda mansy\n",
    "#-13 fakhry \n",
    "# 5 everyone"
   ]
  },
  {
   "cell_type": "markdown",
   "metadata": {},
   "source": [
    "order of Arithmetic operations in python follows PEMDAS role (Parentheses, Exponentiation, Multiplication and Division, Addition and Subtraction)"
   ]
  },
  {
   "cell_type": "code",
   "execution_count": 26,
   "metadata": {},
   "outputs": [
    {
     "data": {
      "text/plain": [
       "2.5"
      ]
     },
     "execution_count": 26,
     "metadata": {},
     "output_type": "execute_result"
    }
   ],
   "source": [
    "# Order\n",
    "\n",
    "10 / 5 * 6 - (1 + 2)\n",
    "7.5%5"
   ]
  },
  {
   "cell_type": "markdown",
   "metadata": {},
   "source": [
    "#### 3 Comparison Operators\n",
    "\n",
    "Comparison operators are used to compare two values: \n",
    "```==, !=, <, >, <=, >=```\n",
    "and it returns ```True``` or ```False```\n",
    "\n",
    "\n"
   ]
  },
  {
   "cell_type": "code",
   "execution_count": 45,
   "metadata": {},
   "outputs": [
    {
     "data": {
      "text/plain": [
       "False"
      ]
     },
     "execution_count": 45,
     "metadata": {},
     "output_type": "execute_result"
    }
   ],
   "source": [
    "# Greater Than\n",
    "10 > 50"
   ]
  },
  {
   "cell_type": "code",
   "execution_count": 11,
   "metadata": {},
   "outputs": [
    {
     "data": {
      "text/plain": [
       "False"
      ]
     },
     "execution_count": 11,
     "metadata": {},
     "output_type": "execute_result"
    }
   ],
   "source": [
    "# Lesser Than\n",
    "11 < 9"
   ]
  },
  {
   "cell_type": "code",
   "execution_count": 12,
   "metadata": {},
   "outputs": [
    {
     "data": {
      "text/plain": [
       "True"
      ]
     },
     "execution_count": 12,
     "metadata": {},
     "output_type": "execute_result"
    }
   ],
   "source": [
    "# Equal\n",
    "7 == 7"
   ]
  },
  {
   "cell_type": "code",
   "execution_count": 13,
   "metadata": {},
   "outputs": [
    {
     "data": {
      "text/plain": [
       "True"
      ]
     },
     "execution_count": 13,
     "metadata": {},
     "output_type": "execute_result"
    }
   ],
   "source": [
    "# Not Equal\n",
    "10 != 8"
   ]
  },
  {
   "cell_type": "code",
   "execution_count": 14,
   "metadata": {},
   "outputs": [
    {
     "data": {
      "text/plain": [
       "True"
      ]
     },
     "execution_count": 14,
     "metadata": {},
     "output_type": "execute_result"
    }
   ],
   "source": [
    "# Greater than or equal to\n",
    "9 >= 9"
   ]
  },
  {
   "cell_type": "code",
   "execution_count": 15,
   "metadata": {},
   "outputs": [
    {
     "data": {
      "text/plain": [
       "True"
      ]
     },
     "execution_count": 15,
     "metadata": {},
     "output_type": "execute_result"
    }
   ],
   "source": [
    "# Less than or equal to\n",
    "10 <= 10"
   ]
  },
  {
   "cell_type": "markdown",
   "metadata": {},
   "source": [
    "Python has the following operators groups:\n",
    "\n",
    "* Arithmetic operators\n",
    "* Assignment operators\n",
    "* Bitwise operators\n",
    "* Comparison operators\n",
    "* Identity operators\n",
    "* Logical operators\n",
    "* Membership operators\n",
    "\n",
    "we will discuss each on time"
   ]
  },
  {
   "cell_type": "markdown",
   "metadata": {},
   "source": [
    "#### 4 Basic Statement\n",
    "\n",
    "**print statement**: outputs the contents inside the parenthesis whatever the data type ```print()```"
   ]
  },
  {
   "cell_type": "code",
   "execution_count": 32,
   "metadata": {},
   "outputs": [
    {
     "name": "stdout",
     "output_type": "stream",
     "text": [
      "Hello World 'ITI\n"
     ]
    }
   ],
   "source": [
    "print('Hello World \\'ITI')"
   ]
  },
  {
   "cell_type": "code",
   "execution_count": 17,
   "metadata": {},
   "outputs": [
    {
     "name": "stdout",
     "output_type": "stream",
     "text": [
      "Hello World\n"
     ]
    }
   ],
   "source": [
    "print('Hello World')"
   ]
  },
  {
   "cell_type": "code",
   "execution_count": 36,
   "metadata": {},
   "outputs": [
    {
     "name": "stdout",
     "output_type": "stream",
     "text": [
      "12\n",
      "welco\tme python\n"
     ]
    }
   ],
   "source": [
    "print(5+7)\n",
    "print(\"welco\\tme python\")"
   ]
  },
  {
   "cell_type": "code",
   "execution_count": 19,
   "metadata": {},
   "outputs": [
    {
     "name": "stdout",
     "output_type": "stream",
     "text": [
      "1.7142857142857142\n"
     ]
    }
   ],
   "source": [
    "print(12/7)"
   ]
  },
  {
   "cell_type": "markdown",
   "metadata": {},
   "source": [
    "**assignment statement**: to assign a value (on the right) to a variable (on the left): ```=```"
   ]
  },
  {
   "cell_type": "code",
   "execution_count": 20,
   "metadata": {},
   "outputs": [
    {
     "name": "stdout",
     "output_type": "stream",
     "text": [
      "10\n"
     ]
    }
   ],
   "source": [
    "x = 10\n",
    "print(x)"
   ]
  },
  {
   "cell_type": "markdown",
   "metadata": {},
   "source": [
    "### our first function\n",
    "\n",
    "during this section we will create our own function ```hello_world()``` that will return/print \"Hello world\" when it's called in the code\n",
    "\n",
    "it starts with ```def``` \n",
    "Python function block begins with the defining keyword ```def```  followed by the function name and parentheses ```()``` and ends with a colon ```:```.\n",
    "\n",
    "*actually the code of block inside the function starts with colon*\n",
    "\n",
    "then the function code block is indented.\n",
    "\n",
    "\n",
    "```python\n",
    "# comment to know what's this function about\n",
    "def functionname( parameters ): # parameters are optional\n",
    "    # code\n",
    "    # code\n",
    "# code outside the function\n",
    "```\n",
    "\n",
    "\n",
    "\n",
    "now let's start by defining our fist function\n"
   ]
  },
  {
   "cell_type": "code",
   "execution_count": 21,
   "metadata": {},
   "outputs": [],
   "source": [
    "# function returning Hello World\n",
    "\n",
    "def hello_world():\n",
    "    print(\"Hello, World!\")\n"
   ]
  },
  {
   "cell_type": "raw",
   "metadata": {},
   "source": [
    "running the code above will not return anythin cause we didn't call the function,\n",
    "now let's call it"
   ]
  },
  {
   "cell_type": "code",
   "execution_count": 22,
   "metadata": {},
   "outputs": [
    {
     "name": "stdout",
     "output_type": "stream",
     "text": [
      "Hello, World!\n"
     ]
    }
   ],
   "source": [
    "hello_world()"
   ]
  },
  {
   "cell_type": "markdown",
   "metadata": {},
   "source": [
    "##### importance of indentation \n",
    "\n",
    "each block of code is indented by 1 tab to separate it for example:\n",
    "\n",
    "```python\n",
    "def newfunctionname(): # first block\n",
    "    # code here\n",
    "        # second block of code\n",
    "        # continue 2nd block of code\n",
    "    # back to first block of code\n",
    "```\n",
    "\n",
    "failing to indent the code block correctly will result in errors running your code."
   ]
  },
  {
   "cell_type": "code",
   "execution_count": 23,
   "metadata": {},
   "outputs": [
    {
     "ename": "IndentationError",
     "evalue": "expected an indented block (<ipython-input-23-62320958572b>, line 4)",
     "output_type": "error",
     "traceback": [
      "\u001b[0;36m  File \u001b[0;32m\"<ipython-input-23-62320958572b>\"\u001b[0;36m, line \u001b[0;32m4\u001b[0m\n\u001b[0;31m    print(\"Hello, python!\")\u001b[0m\n\u001b[0m    ^\u001b[0m\n\u001b[0;31mIndentationError\u001b[0m\u001b[0;31m:\u001b[0m expected an indented block\n"
     ]
    }
   ],
   "source": [
    "# function returning Hello python\n",
    "\n",
    "def hello_python():\n",
    "print(\"Hello, python!\")"
   ]
  },
  {
   "cell_type": "markdown",
   "metadata": {},
   "source": [
    "as you can see above it raises error message. \n",
    "let's dive more into types of errors\n",
    "\n",
    "always use 4 spaces for indentation.\n",
    "\n",
    "Using tabs exclusively is possible but PEP 8, the style guide for Python code, states that spaces are preferred.\n",
    "\n",
    "\n",
    "##### Errors\n",
    "\n",
    "\n",
    "errors are common thing in your life as a programmer and Python programs will terminates once it encounters an error showing detailed error message for the error it stopped by showing a small arrow below where it detected the error.\n",
    "\n",
    "**syntax errors**\n",
    "they are errors shown when the language parser detects an incorrect statement\n",
    "\n",
    "**indentation error**: shown above\n"
   ]
  },
  {
   "cell_type": "code",
   "execution_count": 40,
   "metadata": {},
   "outputs": [
    {
     "ename": "SyntaxError",
     "evalue": "EOL while scanning string literal (<ipython-input-40-9ae977294d5d>, line 1)",
     "output_type": "error",
     "traceback": [
      "\u001b[0;36m  File \u001b[0;32m\"<ipython-input-40-9ae977294d5d>\"\u001b[0;36m, line \u001b[0;32m1\u001b[0m\n\u001b[0;31m    print('hello\u001b[0m\n\u001b[0m                ^\u001b[0m\n\u001b[0;31mSyntaxError\u001b[0m\u001b[0;31m:\u001b[0m EOL while scanning string literal\n"
     ]
    }
   ],
   "source": [
    "print('hello\n",
    "  world)"
   ]
  },
  {
   "cell_type": "code",
   "execution_count": 41,
   "metadata": {},
   "outputs": [
    {
     "ename": "SyntaxError",
     "evalue": "unmatched ')' (<ipython-input-41-5b92202ca0ed>, line 1)",
     "output_type": "error",
     "traceback": [
      "\u001b[0;36m  File \u001b[0;32m\"<ipython-input-41-5b92202ca0ed>\"\u001b[0;36m, line \u001b[0;32m1\u001b[0m\n\u001b[0;31m    print(7))\u001b[0m\n\u001b[0m            ^\u001b[0m\n\u001b[0;31mSyntaxError\u001b[0m\u001b[0;31m:\u001b[0m unmatched ')'\n"
     ]
    }
   ],
   "source": [
    "print(7))"
   ]
  },
  {
   "cell_type": "markdown",
   "metadata": {},
   "source": [
    "**Type Error** "
   ]
  },
  {
   "cell_type": "code",
   "execution_count": 24,
   "metadata": {},
   "outputs": [
    {
     "ename": "TypeError",
     "evalue": "can only concatenate str (not \"int\") to str",
     "output_type": "error",
     "traceback": [
      "\u001b[0;31m---------------------------------------------------------------------------\u001b[0m",
      "\u001b[0;31mTypeError\u001b[0m                                 Traceback (most recent call last)",
      "\u001b[0;32m<ipython-input-24-9a77f29cbfe1>\u001b[0m in \u001b[0;36m<module>\u001b[0;34m\u001b[0m\n\u001b[1;32m      2\u001b[0m \u001b[0mb\u001b[0m \u001b[0;34m=\u001b[0m \u001b[0;36m3.14\u001b[0m\u001b[0;34m\u001b[0m\u001b[0;34m\u001b[0m\u001b[0m\n\u001b[1;32m      3\u001b[0m \u001b[0;31m#a + b\u001b[0m\u001b[0;34m\u001b[0m\u001b[0;34m\u001b[0m\u001b[0;34m\u001b[0m\u001b[0m\n\u001b[0;32m----> 4\u001b[0;31m \u001b[0mprint\u001b[0m\u001b[0;34m(\u001b[0m\u001b[0ma\u001b[0m \u001b[0;34m+\u001b[0m \u001b[0;36m394\u001b[0m\u001b[0;34m)\u001b[0m\u001b[0;34m\u001b[0m\u001b[0;34m\u001b[0m\u001b[0m\n\u001b[0m\u001b[1;32m      5\u001b[0m \u001b[0;31m## correctness\u001b[0m\u001b[0;34m\u001b[0m\u001b[0;34m\u001b[0m\u001b[0;34m\u001b[0m\u001b[0m\n\u001b[1;32m      6\u001b[0m \u001b[0;31m# print( a + \", Pi Equals: \" + str(b))\u001b[0m\u001b[0;34m\u001b[0m\u001b[0;34m\u001b[0m\u001b[0;34m\u001b[0m\u001b[0m\n",
      "\u001b[0;31mTypeError\u001b[0m: can only concatenate str (not \"int\") to str"
     ]
    }
   ],
   "source": [
    "a = \"Hi\"\n",
    "b = 3.14\n",
    "#a + b\n",
    "print(a + 394)\n",
    "## correctness\n",
    "# print( a + \", Pi Equals: \" + str(b))"
   ]
  },
  {
   "cell_type": "markdown",
   "metadata": {},
   "source": [
    "**Zero Division Error**"
   ]
  },
  {
   "cell_type": "code",
   "execution_count": 42,
   "metadata": {},
   "outputs": [
    {
     "ename": "ZeroDivisionError",
     "evalue": "division by zero",
     "output_type": "error",
     "traceback": [
      "\u001b[0;31m---------------------------------------------------------------------------\u001b[0m",
      "\u001b[0;31mZeroDivisionError\u001b[0m                         Traceback (most recent call last)",
      "\u001b[0;32m<ipython-input-42-580a5669e7f6>\u001b[0m in \u001b[0;36m<module>\u001b[0;34m\u001b[0m\n\u001b[0;32m----> 1\u001b[0;31m \u001b[0;36m0\u001b[0m \u001b[0;34m/\u001b[0m \u001b[0;36m0\u001b[0m\u001b[0;34m\u001b[0m\u001b[0;34m\u001b[0m\u001b[0m\n\u001b[0m",
      "\u001b[0;31mZeroDivisionError\u001b[0m: division by zero"
     ]
    }
   ],
   "source": [
    "0 / 0"
   ]
  },
  {
   "cell_type": "markdown",
   "metadata": {},
   "source": [
    "##### Python Keywords\n",
    "\n",
    "Function names should be lowercase, with words separated by underscores as necessary to improve readability. [PEP 8 - Style Guide for Python Code](https://www.python.org/dev/peps/pep-0008/#function-and-variable-names)\n",
    "\n",
    "but Python reserve Keywords that we cannot use as function name or any other identifier\n",
    "\n",
    "```\n",
    "False      await      else       import     pass\n",
    "None       break      except     in         raise\n",
    "True       class      finally    is         return\n",
    "and        continue   for        lambda     try\n",
    "as         def        from       nonlocal   while\n",
    "assert     del        global     not        with\n",
    "async      elif       if         or         yield\n",
    "```\n",
    "[Source: Python Docs](https://docs.python.org/3/reference/lexical_analysis.html#keywords)"
   ]
  },
  {
   "cell_type": "code",
   "execution_count": 43,
   "metadata": {},
   "outputs": [
    {
     "ename": "SyntaxError",
     "evalue": "invalid syntax (<ipython-input-43-049291ef2e4b>, line 1)",
     "output_type": "error",
     "traceback": [
      "\u001b[0;36m  File \u001b[0;32m\"<ipython-input-43-049291ef2e4b>\"\u001b[0;36m, line \u001b[0;32m1\u001b[0m\n\u001b[0;31m    await = 7\u001b[0m\n\u001b[0m          ^\u001b[0m\n\u001b[0;31mSyntaxError\u001b[0m\u001b[0;31m:\u001b[0m invalid syntax\n"
     ]
    }
   ],
   "source": [
    "await = 7"
   ]
  },
  {
   "cell_type": "code",
   "execution_count": null,
   "metadata": {},
   "outputs": [],
   "source": [
    "except = 75"
   ]
  },
  {
   "cell_type": "markdown",
   "metadata": {},
   "source": [
    "let's try another trick in Python Code Blocks"
   ]
  },
  {
   "cell_type": "code",
   "execution_count": null,
   "metadata": {},
   "outputs": [],
   "source": [
    "def hello_function():\n",
    "    print(\"Hello, from the function!\")\n",
    "print(\"This Code is outside the function\")\n",
    "hello_function()"
   ]
  },
  {
   "cell_type": "code",
   "execution_count": 37,
   "metadata": {},
   "outputs": [
    {
     "name": "stdout",
     "output_type": "stream",
     "text": [
      "Help on built-in function print in module builtins:\n",
      "\n",
      "print(...)\n",
      "    print(value, ..., sep=' ', end='\\n', file=sys.stdout, flush=False)\n",
      "    \n",
      "    Prints the values to a stream, or to sys.stdout by default.\n",
      "    Optional keyword arguments:\n",
      "    file:  a file-like object (stream); defaults to the current sys.stdout.\n",
      "    sep:   string inserted between values, default a space.\n",
      "    end:   string appended after the last value, default a newline.\n",
      "    flush: whether to forcibly flush the stream.\n",
      "\n"
     ]
    }
   ],
   "source": [
    "help('print')"
   ]
  },
  {
   "cell_type": "markdown",
   "metadata": {},
   "source": [
    "-----\n",
    "\n",
    "### Assignments\n"
   ]
  },
  {
   "cell_type": "markdown",
   "metadata": {},
   "source": [
    "#### 1 arithmetic\n",
    "\n",
    "in Statistics, the Mean value is calculated by dividing the sum of all values by the count of these values.\n",
    "calculate the mean of 5 numbers ``` 11, 7, 4, 18, 37 ```\n"
   ]
  },
  {
   "cell_type": "code",
   "execution_count": null,
   "metadata": {},
   "outputs": [],
   "source": [
    "( 11 + 7 + 4 + 18 + 37 ) / 5"
   ]
  },
  {
   "cell_type": "markdown",
   "metadata": {},
   "source": [
    "#### 2 what are the results\n",
    "\n",
    "```python\n",
    "52 + 41\n",
    "12 - 4\n",
    "4 + 10 - 5\n",
    "42 / 2 + 7\n",
    "12 + (45 - 3) - 2 / 4 \n",
    "```"
   ]
  },
  {
   "cell_type": "markdown",
   "metadata": {},
   "source": [
    "#### 3 comparison operators\n",
    "\n",
    "```python\n",
    "47 >= 27\n",
    "84 == 61\n",
    "1 != 8\n",
    "\n",
    "```"
   ]
  },
  {
   "cell_type": "markdown",
   "metadata": {},
   "source": [
    "#### 4 what is the output\n",
    "\n",
    "```python\n",
    "def lambda():\n",
    "    print(0/0)\n",
    "```"
   ]
  },
  {
   "cell_type": "code",
   "execution_count": null,
   "metadata": {},
   "outputs": [],
   "source": []
  },
  {
   "cell_type": "code",
   "execution_count": null,
   "metadata": {},
   "outputs": [],
   "source": []
  }
 ],
 "metadata": {
  "kernelspec": {
   "display_name": "Python 3",
   "language": "python",
   "name": "python3"
  },
  "language_info": {
   "codemirror_mode": {
    "name": "ipython",
    "version": 3
   },
   "file_extension": ".py",
   "mimetype": "text/x-python",
   "name": "python",
   "nbconvert_exporter": "python",
   "pygments_lexer": "ipython3",
   "version": "3.8.8"
  }
 },
 "nbformat": 4,
 "nbformat_minor": 4
}
