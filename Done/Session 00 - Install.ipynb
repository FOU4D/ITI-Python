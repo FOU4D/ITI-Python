{
 "cells": [
  {
   "cell_type": "markdown",
   "metadata": {
    "slideshow": {
     "slide_type": "slide"
    },
    "tags": [
     "Header"
    ]
   },
   "source": [
    "<img src=\"https://drive.google.com/uc?id=1v7YY_rNBU2OMaPnbUGmzaBj3PUeddxrw\" alt=\"ITI MCIT EPITA\" style=\"width: 750px;\"/>\n",
    "\n",
    "---"
   ]
  },
  {
   "cell_type": "markdown",
   "metadata": {
    "slideshow": {
     "slide_type": "subslide"
    }
   },
   "source": [
    "<img src=\"https://drive.google.com/uc?id=1R0-FYpJQW5YFy6Yv-RZ1rpyBslay0251\" alt=\"Python Logo\" style=\"width: 400px;\"/>"
   ]
  },
  {
   "cell_type": "markdown",
   "metadata": {
    "slideshow": {
     "slide_type": "fragment"
    },
    "tags": [
     "Header"
    ]
   },
   "source": [
    "# Introduction To Python \n",
    "## Session 00 : Installation\n",
    "\n",
    "By: **Mohamed Fouad Fakhruldeen**, mohamed.fakhruldeen@epita.fr\n",
    "___\n",
    "\n"
   ]
  },
  {
   "cell_type": "markdown",
   "metadata": {
    "slideshow": {
     "slide_type": "slide"
    }
   },
   "source": [
    "### Python Installation\n",
    "\n",
    "#### 01 Linux installation\n",
    "\n",
    "in most cases you will get Python installed into your system by default.\n",
    "you can check it \n",
    "\n",
    "```bash\n",
    "mohamed@fou4d-ubuntu:~$ python3 -V \n",
    "# output: Python 3.8.5\n",
    "mohamed@fou4d-ubuntu:~$ pip -V\n",
    "# output: pip 20.3.3 from /usr/local/lib/python3.8/dist-packages/pip (python 3.8)\n",
    "```\n",
    "\n",
    "if not the case then check your distribution's official documentation on how to install Python and PIP \n",
    "\n",
    "* [read example tutorial](https://opensource.com/article/20/4/install-python-linux)\n",
    "\n",
    "-----\n",
    "\n",
    "#### 02 Windows installation\n",
    "\n",
    "check if Python isn't installed before beginning the installation,\n",
    "open PowerShell\n",
    "\n",
    "```bash\n",
    "PS C:\\Users\\fakhr> where.exe python\n",
    "# output: C:\\Users\\fakhr\\AppData\\Local\\Programs\\Python\\Python39\\python.exe\n",
    "```\n",
    "\n",
    "if not the case then we will start the installation process: \n",
    "\n",
    "1. under Windows (preferably Windows 10) go to the official download link: [https://www.python.org/downloads/windows](https://www.python.org/downloads/windows) and download the excutable exe file corresponding to your OS architicture \n",
    "    * or follow the official documentation on microsoft docs: [https://docs.microsoft.com/en-us/windows/python/beginners](https://docs.microsoft.com/en-us/windows/python/beginners)\n",
    "\n",
    "2. choose the desirable version (latest is 3.9)"
   ]
  },
  {
   "cell_type": "markdown",
   "metadata": {
    "slideshow": {
     "slide_type": "fragment"
    }
   },
   "source": [
    "3. <img src=\"https://drive.google.com/uc?id=1IQr4cxQ8ecExapPdKYDqzFRC7OqxgDDh\" alt=\"Python Logo\" style=\"width: 75%;\"/>"
   ]
  },
  {
   "cell_type": "markdown",
   "metadata": {
    "slideshow": {
     "slide_type": "fragment"
    }
   },
   "source": [
    "4. <img src=\"https://drive.google.com/uc?id=1bJvLhwmlBfV3oJ_V4XZO_XhU5DQ4C7du\" alt=\"Python Logo\" style=\"width: 75%;\"/>"
   ]
  },
  {
   "cell_type": "markdown",
   "metadata": {
    "slideshow": {
     "slide_type": "fragment"
    }
   },
   "source": [
    "<img src=\"https://drive.google.com/uc?id=1GFVaRXm8DPQCI2LLm_ezroSgnzRCZ985\" alt=\"Python Logo\" style=\"width: 75%;\"/>"
   ]
  },
  {
   "cell_type": "markdown",
   "metadata": {
    "slideshow": {
     "slide_type": "fragment"
    }
   },
   "source": [
    "<img src=\"https://drive.google.com/uc?id=1ePndAlg6WgOgZDdAywRaGte7m6EnRYmo\" alt=\"Python Logo\" style=\"width: 75%;\"/>"
   ]
  },
  {
   "cell_type": "markdown",
   "metadata": {
    "slideshow": {
     "slide_type": "fragment"
    }
   },
   "source": [
    "*optional: install virtualenv*\n",
    "\n",
    "```bash\n",
    "PS C:\\Users\\fakhr> pip install virtualenv\n",
    "```"
   ]
  },
  {
   "cell_type": "markdown",
   "metadata": {
    "slideshow": {
     "slide_type": "fragment"
    }
   },
   "source": [
    "*optional if not added to PATH*\n",
    "\n",
    "1. Open the Start menu and start the Run app\n",
    "2. Type sysdm.cpl and click OK. This opens the System Properties window.\n",
    "3. Navigate to the Advanced tab and select Environment Variables.\n",
    "4. Under System Variables, find and select the Path variable.\n",
    "5. Click Edit.\n",
    "6. Select the Variable value field. Add the path to the python.exe file preceded with a semicolon (;). For example, in the image below, we have added “;C:\\Python34.”\n",
    "\n",
    "----"
   ]
  },
  {
   "cell_type": "markdown",
   "metadata": {
    "slideshow": {
     "slide_type": "fragment"
    }
   },
   "source": [
    "### 03. anaconda installation \n",
    "\n",
    "Anaconda is a distribution of the Python and R programming languages for scientific computing (data science, machine learning applications, large-scale data processing, predictive analytics, etc.), that aims to simplify package management and deployment. [Source: Wikipedia](https://en.wikipedia.org/wiki/Anaconda_(Python_distribution)\n",
    "\n",
    "further reading on [Anaconda Starter Guide](https://docs.anaconda.com/_downloads/9ee215ff15fde24bf01791d719084950/Anaconda-Starter-Guide.pdf)\n",
    "\n",
    "For Anaconda---Minimum 3 GB disk space to download and install.\n",
    "\n",
    "**you can download the installation package from the official website:**\n",
    "\n",
    "[Anaconda:Downloads](https://www.anaconda.com/products/individual#Downloads)"
   ]
  },
  {
   "cell_type": "markdown",
   "metadata": {
    "slideshow": {
     "slide_type": "fragment"
    }
   },
   "source": [
    "<img src=\"https://drive.google.com/uc?id=1qcikU_MScORTUkvr6_1wM-T4V3yeUvav\" alt=\"Python Logo\" style=\"width: 75%;\"/>"
   ]
  },
  {
   "cell_type": "markdown",
   "metadata": {
    "slideshow": {
     "slide_type": "fragment"
    }
   },
   "source": [
    "#### 03.01 Linux installation\n",
    "\n",
    "you can follow the prerequisite preparation and package installation from the following URL:\n",
    "https://docs.anaconda.com/anaconda/install/linux/\n",
    "\n",
    "```bash\n",
    "# activate base environment\n",
    "mohamed@fou4d-ubuntu:~$ conda activate base\n",
    "(base) mohamed@fou4d-ubuntu:~$ anaconda-navigator\n",
    "```\n",
    "\n",
    "#### 03.02 Windows installation\n",
    "\n",
    "by following the installation guide on the official website:\n",
    "\n",
    "https://docs.anaconda.com/anaconda/install/windows/\n",
    "\n",
    "then you can find anaconda-navigator on the start menu: \n",
    "\n",
    "<img src=\"https://drive.google.com/uc?id=1EE3xdm2hBMf1PpGAMCWicAHjQpKPcuDw\" alt=\"Python Logo\" style=\"width: 75%;\"/>\n",
    "\n",
    "after finishing installation you can verify the installation:\n",
    "https://docs.anaconda.com/anaconda/install/verify-install/\n",
    "\n",
    "\n",
    "\n"
   ]
  },
  {
   "cell_type": "markdown",
   "metadata": {
    "slideshow": {
     "slide_type": "fragment"
    }
   },
   "source": [
    "now we can launch anaconda-navigator:\n",
    "\n",
    "<img src=\"https://drive.google.com/uc?id=1snvEus1ye92wFIGYorKuR0o4bv_L2Pug\" alt=\"Python Logo\" style=\"width: 75%;\"/>"
   ]
  },
  {
   "cell_type": "markdown",
   "metadata": {
    "slideshow": {
     "slide_type": "fragment"
    }
   },
   "source": [
    "and launch Jupyter Notebook\n",
    "<img src=\"https://drive.google.com/uc?id=10B2v5iK-444iu6pmHMe-cciKuBFQkq1Z\" alt=\"Python Logo\" style=\"width: 75%;\"/>"
   ]
  },
  {
   "cell_type": "markdown",
   "metadata": {
    "slideshow": {
     "slide_type": "fragment"
    }
   },
   "source": [
    "<img src=\"https://drive.google.com/uc?id=1OKbs66SEPdL6qWNAH_nwiIyFjIispDQ4\" alt=\"Python Logo\" style=\"width: 75%;\"/>\n",
    "\n",
    "----"
   ]
  },
  {
   "cell_type": "markdown",
   "metadata": {
    "slideshow": {
     "slide_type": "subslide"
    }
   },
   "source": [
    "* [VisualStudio Python](https://code.visualstudio.com/docs/languages/python)"
   ]
  },
  {
   "cell_type": "markdown",
   "metadata": {},
   "source": [
    "## useful commands"
   ]
  },
  {
   "cell_type": "markdown",
   "metadata": {},
   "source": [
    "updates"
   ]
  },
  {
   "cell_type": "raw",
   "metadata": {
    "raw_mimetype": "text/markdown"
   },
   "source": [
    "```\n",
    "# update to latest version\n",
    "conda update --all\n",
    "conda update conda\n",
    "# update to specific version number\n",
    "conda update anaconda=VersionNumber\n",
    "```"
   ]
  },
  {
   "cell_type": "markdown",
   "metadata": {},
   "source": [
    "### anaconda prompt"
   ]
  },
  {
   "cell_type": "code",
   "execution_count": null,
   "metadata": {},
   "outputs": [],
   "source": [
    "# check version\n",
    "conda --version\n",
    "# create new env\n",
    "conda create --name EnvName PackageNames\n",
    "conda create --name EnvName python=3.5\n",
    "#To see a list of all your environments\n",
    "conda info --envs\n",
    "# Activate the new environment:\n",
    "conda activate EnvName\n",
    "# default: base\n",
    "# (EnvName) $\n",
    "# install packages\n",
    "conda install beautifulsoup4"
   ]
  },
  {
   "cell_type": "markdown",
   "metadata": {},
   "source": [
    "[Conda Cheatsheet](Assets/Session00/conda-cheatsheet.pdf)\n",
    "https://conda.io/projects/conda/en/latest/user-guide/cheatsheet.html"
   ]
  },
  {
   "cell_type": "code",
   "execution_count": null,
   "metadata": {},
   "outputs": [],
   "source": []
  }
 ],
 "metadata": {
  "celltoolbar": "Raw Cell Format",
  "kernelspec": {
   "display_name": "Python 3",
   "language": "python",
   "name": "python3"
  },
  "language_info": {
   "codemirror_mode": {
    "name": "ipython",
    "version": 3
   },
   "file_extension": ".py",
   "mimetype": "text/x-python",
   "name": "python",
   "nbconvert_exporter": "python",
   "pygments_lexer": "ipython3",
   "version": "3.8.8"
  }
 },
 "nbformat": 4,
 "nbformat_minor": 4
}
