{
 "cells": [
  {
   "cell_type": "markdown",
   "metadata": {},
   "source": [
    "<img src=\"https://drive.google.com/uc?id=1v7YY_rNBU2OMaPnbUGmzaBj3PUeddxrw\" alt=\"ITI MCIT EPITA\" style=\"width: 750px;\"/>"
   ]
  },
  {
   "cell_type": "markdown",
   "metadata": {},
   "source": [
    "<img src=\"https://drive.google.com/uc?id=1R0-FYpJQW5YFy6Yv-RZ1rpyBslay0251\" alt=\"Python Logo\" style=\"width: 400px;\"/>\n",
    "\n",
    "-----"
   ]
  },
  {
   "cell_type": "markdown",
   "metadata": {},
   "source": [
    "*By:*<br />\n",
    "**Mohamed Fouad Fakhruldeen**, <br />\n",
    "mohamed.fakhruldeen@epita.fr,<br />\n",
    "linkedin.com/in/fakhruldeen.<br />"
   ]
  },
  {
   "cell_type": "markdown",
   "metadata": {},
   "source": [
    "# Introduction to Python\n",
    "## Session 3: Data Structure"
   ]
  },
  {
   "cell_type": "markdown",
   "metadata": {},
   "source": [
    "## Introduction\n",
    "\n",
    "### what's data structure?\n",
    "\n",
    "simply enough, they are *structures* to hold and organize data together. \n",
    "they are stored in-memory, data stored on persistent storage are different, example: RDBMS databases \n",
    "\n",
    "\n",
    "### refresher \n",
    "\n",
    "**pointers**: bit string to represent memory address\n",
    "we provide the computer with the step-by-step instructions to organize and fetch the data\n",
    "\n",
    "### General Data Structures\n",
    "\n",
    "1. linear single level (SW Development)\n",
    "    1. Array\n",
    "    2. Linked-list\n",
    "    3. Queue \n",
    "    4. Stack\n",
    "2. non-linear or multi-level (Artificial Intelligence and image processing)\n",
    "    5. Trees\n",
    "    6. Graph\n",
    "\n",
    "\n",
    "\n"
   ]
  },
  {
   "cell_type": "markdown",
   "metadata": {},
   "source": [
    "[Further Reading](https://www.geeksforgeeks.org/abstract-data-types/)"
   ]
  },
  {
   "cell_type": "code",
   "execution_count": 2,
   "metadata": {},
   "outputs": [
    {
     "name": "stdout",
     "output_type": "stream",
     "text": [
      "Help on built-in function print in module builtins:\n",
      "\n",
      "print(...)\n",
      "    print(value, ..., sep=' ', end='\\n', file=sys.stdout, flush=False)\n",
      "    \n",
      "    Prints the values to a stream, or to sys.stdout by default.\n",
      "    Optional keyword arguments:\n",
      "    file:  a file-like object (stream); defaults to the current sys.stdout.\n",
      "    sep:   string inserted between values, default a space.\n",
      "    end:   string appended after the last value, default a newline.\n",
      "    flush: whether to forcibly flush the stream.\n",
      "\n"
     ]
    }
   ],
   "source": [
    "help('print')"
   ]
  },
  {
   "cell_type": "markdown",
   "metadata": {},
   "source": [
    "### List"
   ]
  },
  {
   "cell_type": "markdown",
   "metadata": {},
   "source": [
    "* Lists are just like dynamic sized arrays\n",
    "* Lists need not be homogeneous always which makes it a most powerful tool in Python.\n",
    "* A single list may contain DataTypes like Integers, Strings, as well as Objects. \n",
    "* Lists are mutable, and hence, they can be altered even after their creation.\n",
    "* Ordered\n",
    "* have a definite count.\n",
    "* elements in a list are indexed\n",
    "* the indexing of a list is done with 0 being the first index. \n",
    "* Each element in the list has its definite place in the list, which allows duplicating of elements in the list, with each element having its own distinct place and credibility.\n",
    "\n"
   ]
  },
  {
   "cell_type": "code",
   "execution_count": 8,
   "metadata": {},
   "outputs": [
    {
     "name": "stdout",
     "output_type": "stream",
     "text": [
      "[]\n"
     ]
    }
   ],
   "source": [
    "Lista = [] \n",
    "print(Lista) "
   ]
  },
  {
   "cell_type": "code",
   "execution_count": 9,
   "metadata": {},
   "outputs": [
    {
     "name": "stdout",
     "output_type": "stream",
     "text": [
      "['welcome to Python']\n"
     ]
    }
   ],
   "source": [
    "Lista = ['welcome to Python'] \n",
    "print(Lista) "
   ]
  },
  {
   "cell_type": "code",
   "execution_count": 10,
   "metadata": {},
   "outputs": [
    {
     "name": "stdout",
     "output_type": "stream",
     "text": [
      "['Welcome', 'TO', 'Python']\n"
     ]
    }
   ],
   "source": [
    "Lista = ['Welcome', 'TO', 'Python']\n",
    "print(Lista)"
   ]
  },
  {
   "cell_type": "code",
   "execution_count": 11,
   "metadata": {},
   "outputs": [
    {
     "name": "stdout",
     "output_type": "stream",
     "text": [
      "TO\n"
     ]
    }
   ],
   "source": [
    "print(Lista[1])"
   ]
  },
  {
   "cell_type": "code",
   "execution_count": 9,
   "metadata": {},
   "outputs": [
    {
     "name": "stdout",
     "output_type": "stream",
     "text": [
      "<class 'list'>\n",
      "<class 'int'>\n",
      "['ITI', 'Intake 1', 2021]\n"
     ]
    }
   ],
   "source": [
    "listX = ['ITI', 'Intake 1', 2021]\n",
    "print(type(listX))\n",
    "print(type(listX[2]))\n",
    "print(listX)"
   ]
  },
  {
   "cell_type": "code",
   "execution_count": 8,
   "metadata": {},
   "outputs": [
    {
     "name": "stdout",
     "output_type": "stream",
     "text": [
      "2021\n"
     ]
    }
   ],
   "source": [
    "print(listX[-1])"
   ]
  },
  {
   "cell_type": "code",
   "execution_count": 6,
   "metadata": {},
   "outputs": [
    {
     "name": "stdout",
     "output_type": "stream",
     "text": [
      "[2021]\n"
     ]
    }
   ],
   "source": [
    "print(listX[-1:])"
   ]
  },
  {
   "cell_type": "code",
   "execution_count": 10,
   "metadata": {},
   "outputs": [
    {
     "name": "stdout",
     "output_type": "stream",
     "text": [
      "['Intake 1']\n"
     ]
    }
   ],
   "source": [
    "print(listX[1:-1])"
   ]
  },
  {
   "cell_type": "code",
   "execution_count": 13,
   "metadata": {},
   "outputs": [
    {
     "name": "stdout",
     "output_type": "stream",
     "text": [
      "['ITI', 2021]\n"
     ]
    }
   ],
   "source": [
    "print(listX[::2]) #steps"
   ]
  },
  {
   "cell_type": "code",
   "execution_count": 12,
   "metadata": {},
   "outputs": [
    {
     "name": "stdout",
     "output_type": "stream",
     "text": [
      "[2021, 'Intake 1', 'ITI']\n"
     ]
    }
   ],
   "source": [
    "print(listX[::-1]) #reverse order"
   ]
  },
  {
   "cell_type": "code",
   "execution_count": 16,
   "metadata": {},
   "outputs": [
    {
     "name": "stdout",
     "output_type": "stream",
     "text": [
      "['ITI', 'Intake 1']\n",
      "Intake 1\n",
      "tak\n"
     ]
    }
   ],
   "source": [
    "print(listX[:2])\n",
    "print(listX[:2][-1])\n",
    "print(listX[:2][-1][2:5])"
   ]
  },
  {
   "cell_type": "markdown",
   "metadata": {},
   "source": [
    "#### concatenate lists"
   ]
  },
  {
   "cell_type": "code",
   "execution_count": 30,
   "metadata": {},
   "outputs": [
    {
     "name": "stdout",
     "output_type": "stream",
     "text": [
      "[4, 5, 6, 7, 8, 9]\n"
     ]
    }
   ],
   "source": [
    "List1 = [4, 5, 6]\n",
    "List2 = [7, 8, 9]\n",
    "List3 = List1 + List2\n",
    "print(List3)"
   ]
  },
  {
   "cell_type": "code",
   "execution_count": 31,
   "metadata": {},
   "outputs": [
    {
     "name": "stdout",
     "output_type": "stream",
     "text": [
      "[4, 5, 6, 4, 5, 6]\n"
     ]
    }
   ],
   "source": [
    "List4 = List1 * 2\n",
    "print(List4)"
   ]
  },
  {
   "cell_type": "code",
   "execution_count": 34,
   "metadata": {},
   "outputs": [
    {
     "name": "stdout",
     "output_type": "stream",
     "text": [
      "[4, 5, 6, 4, 5, 6, 4, 5, 6, 4, 5, 6, 4, 5, 6, 4, 5, 6, 4, 5, 6, 4, 5, 6, 4, 5, 6, 4, 5, 6, 4, 5, 6, 4, 5, 6, 4, 5, 6, 4, 5, 6, 4, 5, 6, 4, 5, 6]\n"
     ]
    }
   ],
   "source": [
    "List4 *= 2\n",
    "print(List4)"
   ]
  },
  {
   "cell_type": "code",
   "execution_count": 21,
   "metadata": {},
   "outputs": [
    {
     "name": "stdout",
     "output_type": "stream",
     "text": [
      "[0, 0, 0, 0, 0, 0]\n"
     ]
    }
   ],
   "source": [
    "List7 = [0] * 6\n",
    "print(List7)"
   ]
  },
  {
   "cell_type": "code",
   "execution_count": 22,
   "metadata": {},
   "outputs": [
    {
     "name": "stdout",
     "output_type": "stream",
     "text": [
      "[0, 0, 74, 0, 0, 0]\n"
     ]
    }
   ],
   "source": [
    "List7[2] = 74\n",
    "print(List7)"
   ]
  },
  {
   "cell_type": "code",
   "execution_count": 23,
   "metadata": {},
   "outputs": [
    {
     "name": "stdout",
     "output_type": "stream",
     "text": [
      "12\n",
      "[0, 0, 74, 0, 0, 0, 0, 0, 74, 0, 0, 0]\n"
     ]
    }
   ],
   "source": [
    "List8 = 2 * List7\n",
    "print(len(List8))\n",
    "print(List8)"
   ]
  },
  {
   "cell_type": "markdown",
   "metadata": {},
   "source": [
    "#### append() method"
   ]
  },
  {
   "cell_type": "code",
   "execution_count": 24,
   "metadata": {
    "scrolled": true
   },
   "outputs": [
    {
     "name": "stdout",
     "output_type": "stream",
     "text": [
      "[0, 0, 74, 0, 0, 0, 0, 0, 74, 0, 0, 0, 'Fouad']\n"
     ]
    }
   ],
   "source": [
    "List8.append(\"Fouad\")\n",
    "print(List8)"
   ]
  },
  {
   "cell_type": "code",
   "execution_count": 40,
   "metadata": {},
   "outputs": [
    {
     "name": "stdout",
     "output_type": "stream",
     "text": [
      "[0, 0, 74, 0, 0, 0, 0, 0, 74, 0, 0, 0, 'Fouad', True, 74]\n"
     ]
    }
   ],
   "source": [
    "List8.append(True)\n",
    "List8.append(74)\n",
    "print(List8)"
   ]
  },
  {
   "cell_type": "markdown",
   "metadata": {},
   "source": [
    "### insert() method"
   ]
  },
  {
   "cell_type": "code",
   "execution_count": 41,
   "metadata": {},
   "outputs": [
    {
     "name": "stdout",
     "output_type": "stream",
     "text": [
      "[1, 5, 47, 12]\n"
     ]
    }
   ],
   "source": [
    "ListIns = [1, 5, 47]\n",
    "ListIns.insert(3, 12)\n",
    "print(ListIns)"
   ]
  },
  {
   "cell_type": "code",
   "execution_count": 42,
   "metadata": {},
   "outputs": [
    {
     "name": "stdout",
     "output_type": "stream",
     "text": [
      "[1, 3, 5, 47, 12]\n"
     ]
    }
   ],
   "source": [
    "ListIns.insert(1, 3)\n",
    "print(ListIns)"
   ]
  },
  {
   "cell_type": "markdown",
   "metadata": {},
   "source": [
    "### extend() method"
   ]
  },
  {
   "cell_type": "code",
   "execution_count": 43,
   "metadata": {},
   "outputs": [
    {
     "name": "stdout",
     "output_type": "stream",
     "text": [
      "[1, 2, 3, 4, False, 'Testing', 'Again']\n"
     ]
    }
   ],
   "source": [
    "ListEx = [1,2,3,4]\n",
    "ListEx.extend([False, 'Testing', 'Again'])\n",
    "print(ListEx)"
   ]
  },
  {
   "cell_type": "code",
   "execution_count": 44,
   "metadata": {},
   "outputs": [
    {
     "name": "stdout",
     "output_type": "stream",
     "text": [
      "4\n"
     ]
    }
   ],
   "source": [
    "List_1 = [1, 2, 3, 4, 7, 8]\n",
    "print(List_1.index(7))\n"
   ]
  },
  {
   "cell_type": "code",
   "execution_count": 45,
   "metadata": {},
   "outputs": [
    {
     "name": "stdout",
     "output_type": "stream",
     "text": [
      "1\n"
     ]
    }
   ],
   "source": [
    "List_1 = [1, 2, 3, 4, 7, 8]\n",
    "print(List_1.count(4))"
   ]
  },
  {
   "cell_type": "code",
   "execution_count": 46,
   "metadata": {},
   "outputs": [
    {
     "name": "stdout",
     "output_type": "stream",
     "text": [
      "0\n"
     ]
    }
   ],
   "source": [
    "print(List_1.count([4, 7]))"
   ]
  },
  {
   "cell_type": "code",
   "execution_count": 52,
   "metadata": {},
   "outputs": [
    {
     "name": "stdout",
     "output_type": "stream",
     "text": [
      "2\n"
     ]
    }
   ],
   "source": [
    "list1 = [1, 2, 4, 5, 6] \n",
    "Tuple1 = tuple(list1[0:2])\n",
    "Tuple2 = tuple(list1[-1:-2])\n",
    "print(Tuple1[1])"
   ]
  },
  {
   "cell_type": "markdown",
   "metadata": {},
   "source": [
    "### remove() method\n",
    "\n",
    "this method is used to remove only one element or use it with iterator loops. Only the first occurrence of search"
   ]
  },
  {
   "cell_type": "code",
   "execution_count": 25,
   "metadata": {},
   "outputs": [],
   "source": [
    "List = [1,2,3,4]\n",
    "List.remove(3)"
   ]
  },
  {
   "cell_type": "markdown",
   "metadata": {},
   "source": [
    "### pop() method\n",
    "\n",
    "this method is used to remove the last element or position index"
   ]
  },
  {
   "cell_type": "code",
   "execution_count": 29,
   "metadata": {},
   "outputs": [
    {
     "name": "stdout",
     "output_type": "stream",
     "text": [
      "3\n",
      "[1, 2]\n"
     ]
    }
   ],
   "source": [
    "List = [1,2,3,4]\n",
    "List.pop()\n",
    "print(List.pop(2))\n",
    "print(List)\n"
   ]
  },
  {
   "cell_type": "markdown",
   "metadata": {},
   "source": [
    "### del() method"
   ]
  },
  {
   "cell_type": "code",
   "execution_count": 38,
   "metadata": {},
   "outputs": [
    {
     "name": "stdout",
     "output_type": "stream",
     "text": [
      "[1, 2, 4]\n"
     ]
    }
   ],
   "source": [
    "List = [1,2,3,4]\n",
    "del List[2]\n",
    "print(List)\n",
    "del List\n",
    "# print(List)"
   ]
  },
  {
   "cell_type": "markdown",
   "metadata": {},
   "source": [
    "### Index method"
   ]
  },
  {
   "cell_type": "markdown",
   "metadata": {},
   "source": [
    "Search and return first index "
   ]
  },
  {
   "cell_type": "code",
   "execution_count": 41,
   "metadata": {},
   "outputs": [
    {
     "name": "stdout",
     "output_type": "stream",
     "text": [
      "4\n"
     ]
    }
   ],
   "source": [
    "List_1 = [1, 2, 3, 4, 7, 8]\n",
    "print(List_1.index(7))"
   ]
  },
  {
   "cell_type": "markdown",
   "metadata": {},
   "source": [
    "### clear() method\n",
    "\n",
    "Clear the list"
   ]
  },
  {
   "cell_type": "code",
   "execution_count": 43,
   "metadata": {},
   "outputs": [
    {
     "name": "stdout",
     "output_type": "stream",
     "text": [
      "None\n",
      "[]\n"
     ]
    }
   ],
   "source": [
    "List_1 = [1, 2, 3, 4, 7, 8]\n",
    "print(List_1.clear())\n",
    "print(List_1)"
   ]
  },
  {
   "cell_type": "markdown",
   "metadata": {},
   "source": [
    "### list mutability\n",
    "\n",
    "Mutability is about whether or not we can change an object once it has been created, otherwise it's considered immutable. As strings."
   ]
  },
  {
   "cell_type": "code",
   "execution_count": 33,
   "metadata": {},
   "outputs": [
    {
     "name": "stdout",
     "output_type": "stream",
     "text": [
      "[7, 8, 9]\n",
      "[7, 8, 74]\n"
     ]
    }
   ],
   "source": [
    "List2 = [7, 8, 9]\n",
    "print(List2)\n",
    "List2[2] = 74\n",
    "print(List2)"
   ]
  },
  {
   "cell_type": "markdown",
   "metadata": {},
   "source": [
    "### List Slicing"
   ]
  },
  {
   "cell_type": "code",
   "execution_count": 40,
   "metadata": {},
   "outputs": [
    {
     "name": "stdout",
     "output_type": "stream",
     "text": [
      "[1, 20, 40]\n"
     ]
    }
   ],
   "source": [
    "ListA = [1,10,20,30,40,50]\n",
    "ListB = ListA[::2]\n",
    "print(ListB)"
   ]
  },
  {
   "cell_type": "markdown",
   "metadata": {},
   "source": [
    "### List Counting Methods"
   ]
  },
  {
   "cell_type": "markdown",
   "metadata": {},
   "source": [
    "#### min() , max()\n"
   ]
  },
  {
   "cell_type": "code",
   "execution_count": 45,
   "metadata": {},
   "outputs": [
    {
     "name": "stdout",
     "output_type": "stream",
     "text": [
      "3 957\n"
     ]
    }
   ],
   "source": [
    "list_name = [98,48,37,957,9,3]\n",
    "print(min(list_name), max(list_name))\n"
   ]
  },
  {
   "cell_type": "markdown",
   "metadata": {},
   "source": [
    "#### count"
   ]
  },
  {
   "cell_type": "code",
   "execution_count": 48,
   "metadata": {},
   "outputs": [
    {
     "name": "stdout",
     "output_type": "stream",
     "text": [
      "5\n"
     ]
    }
   ],
   "source": [
    "List_1 = [1, 2, 3, 4, 7, 8]\n",
    "List_1 *= 5\n",
    "print(List_1.count(3))\n"
   ]
  },
  {
   "cell_type": "markdown",
   "metadata": {},
   "source": [
    "### List Copy() Method"
   ]
  },
  {
   "cell_type": "code",
   "execution_count": 2,
   "metadata": {},
   "outputs": [
    {
     "name": "stdout",
     "output_type": "stream",
     "text": [
      "New List2: [0, 1, 2, 3]\n",
      "New List20: [0, 1, 2, 3, 4]\n",
      "Old List now is: [0, 1, 2, 3]\n"
     ]
    }
   ],
   "source": [
    "old_list20 = [0, 1, 2, 3]\n",
    "new_list20 = old_list20.copy() #try without .copy() method\n",
    "print('New List2:', new_list20)\n",
    "new_list20.append(4)\n",
    "print('New List20:', new_list20)\n",
    "print('Old List now is:', old_list20)\n",
    "del old_list20\n",
    "del new_list20"
   ]
  },
  {
   "cell_type": "markdown",
   "metadata": {},
   "source": [
    "### Sort and Sorted"
   ]
  },
  {
   "cell_type": "code",
   "execution_count": 10,
   "metadata": {},
   "outputs": [
    {
     "name": "stdout",
     "output_type": "stream",
     "text": [
      "default list :  [87, 98, 48, 37, 957, 9, 3]\n",
      "sort method:  [3, 9, 37, 48, 87, 98, 957]\n",
      "reverse sort method:  [957, 98, 87, 48, 37, 9, 3]\n"
     ]
    }
   ],
   "source": [
    "SList = [87,98,48,37,957,9,3]\n",
    "print(\"default list : \", SList)\n",
    "SList.sort()\n",
    "# SList2 = SList.sort() #None\n",
    "print(\"sort method: \", SList) # inplace\n",
    "SList.sort(reverse = True)\n",
    "print(\"reverse sort method: \", SList)\n",
    "#ListName.sort(reverse = True)\n",
    "#DON'T ListName = ListName.sort() #NONE\n"
   ]
  },
  {
   "cell_type": "code",
   "execution_count": 14,
   "metadata": {},
   "outputs": [
    {
     "name": "stdout",
     "output_type": "stream",
     "text": [
      "[13, 224, 36, 14, 7, 58]\n",
      "[7, 13, 14, 36, 58, 224]\n",
      "[7, 13, 14, 36, 58, 224]\n",
      "[224, 58, 36, 14, 13, 7]\n",
      "[13, 224, 36, 14, 7, 58]\n"
     ]
    }
   ],
   "source": [
    "List_1 = [13, 224, 36, 14, 7, 58]\n",
    "NewList1 = sorted(List_1)\n",
    "NewList2 = sorted(NewList1, reverse = True)\n",
    "print(List_1)\n",
    "print(sorted(List_1))\n",
    "print(NewList1)\n",
    "print(NewList2)\n",
    "print(List_1)\n",
    "\n"
   ]
  },
  {
   "cell_type": "markdown",
   "metadata": {},
   "source": [
    "### List Comprehension"
   ]
  },
  {
   "cell_type": "code",
   "execution_count": 17,
   "metadata": {},
   "outputs": [
    {
     "name": "stdout",
     "output_type": "stream",
     "text": [
      "[2, 4, 7, 1]\n",
      "[2, 4, 7, 1]\n",
      "[4, 8, 14, 2]\n",
      "[7, 8, 9, 10]\n",
      "['HHH', 'eee', 'lll', 'lll', 'ooo']\n"
     ]
    }
   ],
   "source": [
    "List1 = [2, 4, 7, 1]\n",
    "print(List1)\n",
    "\n",
    "List2 = [i for i in List1]\n",
    "print(List2)\n",
    "\n",
    "List3 = [i*2 for i in List1]\n",
    "print(List3)\n",
    "\n",
    "List4 = [i+3 for i in range(4, 8)]\n",
    "print(List4)\n",
    "\n",
    "List5 = [3*char for char in 'Hello']\n",
    "print(List5)\n"
   ]
  },
  {
   "cell_type": "markdown",
   "metadata": {},
   "source": [
    "### Conditional list comprehension\n"
   ]
  },
  {
   "cell_type": "code",
   "execution_count": 19,
   "metadata": {},
   "outputs": [
    {
     "name": "stdout",
     "output_type": "stream",
     "text": [
      "[2, 4, 7, 1]\n",
      "[4, 7]\n",
      "[4, 8, 14]\n",
      "Welcome to Conditional\n",
      "['e', 'o', 'e', 'o', 'o', 'i', 'i', 'o', 'a']\n"
     ]
    }
   ],
   "source": [
    "List1 = [2, 4, 7, 1]\n",
    "print(List1)\n",
    "\n",
    "List2 = [i for i in List1 if i > 3]\n",
    "print(List2)\n",
    "\n",
    "List3 = [i*2 for i in List1 if i >=2 and i < 10 ]\n",
    "print(List3)\n",
    "\n",
    "String1 = \"Welcome to Conditional\"\n",
    "print(String1)\n",
    "\n",
    "Vowels = [i for i in String1 if i in 'aeiou']\n",
    "print(Vowels)\n"
   ]
  },
  {
   "cell_type": "markdown",
   "metadata": {},
   "source": [
    "### Nested Lists\n",
    "\n",
    "list of lists\n",
    "\n",
    "list = [list, list, list[list, list[list, list]]]"
   ]
  },
  {
   "cell_type": "code",
   "execution_count": 26,
   "metadata": {},
   "outputs": [
    {
     "name": "stdout",
     "output_type": "stream",
     "text": [
      "[[2, 4, 7, 1], [89, 74, 75, 74]]\n",
      "[[2, 4, 7, 1], [89, 74, 75, 74], [[84, 75, 84, 94, 86, 23], [13, 47, 57, 73, 74]]]\n",
      "[89, 74, 75, 74]\n",
      "[84, 75, 84, 94, 86, 23]\n"
     ]
    }
   ],
   "source": [
    "List1 = [2, 4, 7, 1]\n",
    "List2 = [89, 74, 75, 74]\n",
    "ListA = [List1, List2]\n",
    "print(ListA)\n",
    "List3 = [84,75,84, 94, 86,23]\n",
    "List4 = [13,47,57,73,74]\n",
    "ListB = [List1, List2,[List3, List4]]\n",
    "print(ListB)\n",
    "print(ListB[1])\n",
    "print(ListB[2][0]) # remember [n][m]"
   ]
  },
  {
   "cell_type": "markdown",
   "metadata": {},
   "source": [
    "## Tuples"
   ]
  },
  {
   "cell_type": "markdown",
   "metadata": {},
   "source": [
    "Just like list, tuple is also an ordered collection of Python objects. The only difference between type and list is that tuples are immutable i.e. tuples cannot be modified after it is created. It is represented by tuple class\n"
   ]
  },
  {
   "cell_type": "code",
   "execution_count": 30,
   "metadata": {},
   "outputs": [
    {
     "name": "stdout",
     "output_type": "stream",
     "text": [
      "(1, 4, 8)\n",
      "(5,)\n",
      "<class 'tuple'>\n",
      "4\n",
      "<class 'int'>\n"
     ]
    }
   ],
   "source": [
    "Tuple1 = (1, 4, 8)\n",
    "Tuple2 = (5, ) #one item\n",
    "print(Tuple1)\n",
    "print(Tuple2)\n",
    "print(type(Tuple2))\n",
    "tuple3 = (4)\n",
    "print(tuple3)\n",
    "print(type(tuple3))"
   ]
  },
  {
   "cell_type": "markdown",
   "metadata": {},
   "source": [
    "#### Creating a Tuple with list\n"
   ]
  },
  {
   "cell_type": "code",
   "execution_count": 37,
   "metadata": {},
   "outputs": [
    {
     "name": "stdout",
     "output_type": "stream",
     "text": [
      "<class 'tuple'>\n",
      "<class 'tuple'>\n",
      "((1, 2, 4, 5, 6), ('I', 'T', 'I', '-', 'P', 'r', 'o'))\n",
      "<class 'tuple'>\n",
      "(1, 2)\n"
     ]
    }
   ],
   "source": [
    "list1 = [1, 2, 4, 5, 6] \n",
    "Tuple1 = tuple(list1)\n",
    "Tuple2 = tuple('ITI-Pro')\n",
    "Tuple3 = (Tuple1, Tuple2)\n",
    "print(type(Tuple1))\n",
    "print(type(Tuple2))\n",
    "print(Tuple3)\n",
    "print(type(Tuple3))\n",
    "print(Tuple1[:2])\n",
    "#Tuple[1]=9 #Error"
   ]
  },
  {
   "cell_type": "code",
   "execution_count": null,
   "metadata": {},
   "outputs": [],
   "source": [
    "list1 = [1, 2, 4, 5, 6] \n",
    "Tuple1 = tuple(list1)\n",
    "Tuple2 = tuple('ITI-Pro')\n",
    "Tuple3 = (Tuple1, Tuple2)\n"
   ]
  },
  {
   "cell_type": "markdown",
   "metadata": {},
   "source": [
    "#### tuple unpacking"
   ]
  },
  {
   "cell_type": "code",
   "execution_count": 38,
   "metadata": {},
   "outputs": [
    {
     "name": "stdout",
     "output_type": "stream",
     "text": [
      "ITI\n",
      "AI\n",
      "Pro\n"
     ]
    }
   ],
   "source": [
    "tupleA = (\"ITI\", \"AI\", \"Pro\")\n",
    "a, b, c = tupleA\n",
    "print(a)\n",
    "print(b)\n",
    "print(c)"
   ]
  },
  {
   "cell_type": "markdown",
   "metadata": {},
   "source": [
    "#### tuple deletion\n"
   ]
  },
  {
   "cell_type": "code",
   "execution_count": 43,
   "metadata": {},
   "outputs": [],
   "source": [
    "tupleZ = (\"ITI\", \"AI\", \"Pro\")\n",
    "del tupleZ\n",
    "#print(Tuple1)\n"
   ]
  },
  {
   "cell_type": "markdown",
   "metadata": {},
   "source": [
    "#### tuple count"
   ]
  },
  {
   "cell_type": "code",
   "execution_count": 44,
   "metadata": {},
   "outputs": [
    {
     "name": "stdout",
     "output_type": "stream",
     "text": [
      "2\n"
     ]
    }
   ],
   "source": [
    "thistuple = (1, 3, 7, 8, 7, 5, 4, 6, 8, 5)\n",
    "\n",
    "x = thistuple.count(5)\n",
    "\n",
    "print(x) "
   ]
  },
  {
   "cell_type": "markdown",
   "metadata": {},
   "source": [
    "#### tuple index"
   ]
  },
  {
   "cell_type": "code",
   "execution_count": 46,
   "metadata": {},
   "outputs": [
    {
     "name": "stdout",
     "output_type": "stream",
     "text": [
      "3\n"
     ]
    }
   ],
   "source": [
    "thistuple = (1, 3, 7, 8, 7, 5, 4, 6, 8, 5)\n",
    "\n",
    "x = thistuple.index(8) #first appearance\n",
    "\n",
    "print(x) "
   ]
  },
  {
   "cell_type": "markdown",
   "metadata": {},
   "source": [
    "### Python Sets\n"
   ]
  },
  {
   "cell_type": "markdown",
   "metadata": {},
   "source": [
    "Set is an unordered collection of data type that is iterable, mutable and has no duplicate elements. The order of elements in a set is undefined though it may consist of various elements.\n",
    "\n",
    "The major advantage of using a set, as opposed to a list, is that it has a highly optimized method for checking whether a specific element is contained in the set.\n"
   ]
  },
  {
   "cell_type": "code",
   "execution_count": 55,
   "metadata": {},
   "outputs": [
    {
     "name": "stdout",
     "output_type": "stream",
     "text": [
      "{'apple', 'banana', 'cherry'}\n",
      "Mohamed\n",
      "{'h', 'e', 'o', 'a', 'd', 'm', 'M'}\n",
      "{4, 10, 14, 'cherry', 'banana', 'apple'}\n",
      "6\n",
      "<class 'set'>\n"
     ]
    }
   ],
   "source": [
    "NewSet = set()\n",
    "NewSet = set((\"apple\", \"banana\", \"cherry\"))\n",
    "print(NewSet)\n",
    "String = 'Mohamed'\n",
    "print(String)\n",
    "set1 = set(String)\n",
    "print(set1)\n",
    "NewSet.add(10) # only one element, we can iterate\n",
    "NewSet.add(14)\n",
    "NewSet.add(4)\n",
    "print(NewSet)\n",
    "print(len(NewSet)) \n",
    "print(type(NewSet)) "
   ]
  },
  {
   "cell_type": "code",
   "execution_count": null,
   "metadata": {},
   "outputs": [],
   "source": [
    "# to access items in set\n",
    "#for x in NewSet:\n",
    "#  print(x) \n",
    "\n",
    "# or\n",
    "#print(\"banana\" in NewSet) "
   ]
  },
  {
   "cell_type": "markdown",
   "metadata": {},
   "source": [
    "#### update method"
   ]
  },
  {
   "cell_type": "code",
   "execution_count": 58,
   "metadata": {},
   "outputs": [
    {
     "name": "stdout",
     "output_type": "stream",
     "text": [
      "{'cherry', 'banana', 'apple', 'mango', 'papaya', 'pineapple'}\n",
      "{'cherry', 'kiwi', 'banana', 'apple', 'mango', 'papaya', 'orange', 'pineapple'}\n"
     ]
    }
   ],
   "source": [
    "thisset = {\"apple\", \"banana\", \"cherry\"}\n",
    "tropical = {\"pineapple\", \"mango\", \"papaya\"}\n",
    "\n",
    "thisset.update(tropical)\n",
    "\n",
    "print(thisset) \n",
    "anotherone = [\"kiwi\", \"orange\"]\n",
    "thisset.update(anotherone)\n",
    "print(thisset) \n"
   ]
  },
  {
   "cell_type": "markdown",
   "metadata": {},
   "source": [
    "#### remove method"
   ]
  },
  {
   "cell_type": "code",
   "execution_count": 61,
   "metadata": {},
   "outputs": [
    {
     "ename": "KeyError",
     "evalue": "'banana'",
     "output_type": "error",
     "traceback": [
      "\u001b[0;31m---------------------------------------------------------------------------\u001b[0m",
      "\u001b[0;31mKeyError\u001b[0m                                  Traceback (most recent call last)",
      "\u001b[0;32m<ipython-input-61-6743ccc2140a>\u001b[0m in \u001b[0;36m<module>\u001b[0;34m\u001b[0m\n\u001b[0;32m----> 1\u001b[0;31m \u001b[0mthisset\u001b[0m\u001b[0;34m.\u001b[0m\u001b[0mremove\u001b[0m\u001b[0;34m(\u001b[0m\u001b[0;34m\"banana\"\u001b[0m\u001b[0;34m)\u001b[0m\u001b[0;34m\u001b[0m\u001b[0;34m\u001b[0m\u001b[0m\n\u001b[0m\u001b[1;32m      2\u001b[0m \u001b[0mthisset\u001b[0m\u001b[0;34m.\u001b[0m\u001b[0mremove\u001b[0m\u001b[0;34m(\u001b[0m\u001b[0;34m\"orange\"\u001b[0m\u001b[0;34m)\u001b[0m\u001b[0;34m\u001b[0m\u001b[0;34m\u001b[0m\u001b[0m\n\u001b[1;32m      3\u001b[0m \u001b[0;34m\u001b[0m\u001b[0m\n\u001b[1;32m      4\u001b[0m \u001b[0mprint\u001b[0m\u001b[0;34m(\u001b[0m\u001b[0mthisset\u001b[0m\u001b[0;34m)\u001b[0m\u001b[0;34m\u001b[0m\u001b[0;34m\u001b[0m\u001b[0m\n",
      "\u001b[0;31mKeyError\u001b[0m: 'banana'"
     ]
    }
   ],
   "source": [
    "thisset.remove(\"banana\")\n",
    "#thisset.remove(\"orange\") ## error\n",
    "\n",
    "print(thisset) "
   ]
  },
  {
   "cell_type": "markdown",
   "metadata": {},
   "source": [
    "#### discard method"
   ]
  },
  {
   "cell_type": "code",
   "execution_count": 60,
   "metadata": {},
   "outputs": [
    {
     "name": "stdout",
     "output_type": "stream",
     "text": [
      "{'apple', 'cherry'}\n"
     ]
    }
   ],
   "source": [
    "thisset = {\"apple\", \"banana\", \"cherry\"}\n",
    "\n",
    "thisset.discard(\"banana\")\n",
    "thisset.discard(\"orange\") ## no error\n",
    "print(thisset) "
   ]
  },
  {
   "cell_type": "markdown",
   "metadata": {},
   "source": [
    "#### pop method"
   ]
  },
  {
   "cell_type": "code",
   "execution_count": 62,
   "metadata": {},
   "outputs": [
    {
     "name": "stdout",
     "output_type": "stream",
     "text": [
      "apple\n",
      "{'banana', 'cherry'}\n"
     ]
    }
   ],
   "source": [
    "thisset = {\"apple\", \"banana\", \"cherry\"}\n",
    "\n",
    "x = thisset.pop()\n",
    "\n",
    "print(x)\n",
    "\n",
    "print(thisset) "
   ]
  },
  {
   "cell_type": "markdown",
   "metadata": {},
   "source": [
    "#### clear method"
   ]
  },
  {
   "cell_type": "code",
   "execution_count": 63,
   "metadata": {},
   "outputs": [
    {
     "name": "stdout",
     "output_type": "stream",
     "text": [
      "set()\n"
     ]
    }
   ],
   "source": [
    "thisset = {\"apple\", \"banana\", \"cherry\"}\n",
    "\n",
    "thisset.clear()\n",
    "\n",
    "print(thisset) "
   ]
  },
  {
   "cell_type": "markdown",
   "metadata": {},
   "source": [
    "#### del method"
   ]
  },
  {
   "cell_type": "code",
   "execution_count": 65,
   "metadata": {},
   "outputs": [],
   "source": [
    "thisset = {\"apple\", \"banana\", \"cherry\"}\n",
    "\n",
    "del thisset\n",
    "\n",
    "#print(thisset) ## not defined"
   ]
  },
  {
   "cell_type": "markdown",
   "metadata": {},
   "source": [
    "#### set union"
   ]
  },
  {
   "cell_type": "code",
   "execution_count": 68,
   "metadata": {},
   "outputs": [
    {
     "name": "stdout",
     "output_type": "stream",
     "text": [
      "{1, 2, 3, 'b', 'c', 'a'}\n",
      "{1, 2, 3}\n",
      "{'c', 'a', 'b'}\n"
     ]
    }
   ],
   "source": [
    "set1 = {\"a\", \"b\" , \"c\"}\n",
    "set2 = {1, 2, 3}\n",
    "\n",
    "set3 = set1.union(set2)\n",
    "print(set3) \n",
    "print(set2) \n",
    "print(set1) "
   ]
  },
  {
   "cell_type": "markdown",
   "metadata": {},
   "source": [
    "#### set update"
   ]
  },
  {
   "cell_type": "code",
   "execution_count": 69,
   "metadata": {},
   "outputs": [
    {
     "name": "stdout",
     "output_type": "stream",
     "text": [
      "{1, 2, 3, 'b', 'c', 'a'}\n",
      "{1, 2, 3}\n",
      "{1, 2, 3, 'b', 'c', 'a'}\n"
     ]
    }
   ],
   "source": [
    "set1 = {\"a\", \"b\" , \"c\"}\n",
    "set2 = {1, 2, 3}\n",
    "\n",
    "set1.update(set2)\n",
    "print(set3) \n",
    "print(set2) \n",
    "print(set1) "
   ]
  },
  {
   "cell_type": "markdown",
   "metadata": {},
   "source": [
    "#### intersection_update()  method"
   ]
  },
  {
   "cell_type": "code",
   "execution_count": 70,
   "metadata": {},
   "outputs": [
    {
     "name": "stdout",
     "output_type": "stream",
     "text": [
      "{'apple'}\n"
     ]
    }
   ],
   "source": [
    "x = {\"apple\", \"banana\", \"cherry\"}\n",
    "y = {\"google\", \"microsoft\", \"apple\"}\n",
    "\n",
    "x.intersection_update(y)\n",
    "\n",
    "print(x) "
   ]
  },
  {
   "cell_type": "markdown",
   "metadata": {},
   "source": [
    "#### symmetric_difference_update() method"
   ]
  },
  {
   "cell_type": "code",
   "execution_count": 73,
   "metadata": {},
   "outputs": [
    {
     "name": "stdout",
     "output_type": "stream",
     "text": [
      "{'cherry', 'microsoft', 'google', 'banana'}\n",
      "{'apple', 'banana', 'cherry'}\n",
      "{'cherry', 'microsoft', 'google', 'banana'}\n"
     ]
    }
   ],
   "source": [
    "x = {\"apple\", \"banana\", \"cherry\"}\n",
    "y = {\"google\", \"microsoft\", \"apple\"}\n",
    "\n",
    "x.symmetric_difference_update(y)\n",
    "\n",
    "print(x) \n",
    "\n",
    "x = {\"apple\", \"banana\", \"cherry\"}\n",
    "y = {\"google\", \"microsoft\", \"apple\"}\n",
    "\n",
    "z = x.symmetric_difference(y)\n",
    "print(x) \n",
    "print(z)"
   ]
  },
  {
   "cell_type": "markdown",
   "metadata": {},
   "source": [
    "https://www.w3schools.com/python/python_sets_methods.asp"
   ]
  },
  {
   "cell_type": "markdown",
   "metadata": {},
   "source": [
    "### Dictionary"
   ]
  },
  {
   "cell_type": "markdown",
   "metadata": {},
   "source": [
    "Dictionary holds key:value pair\n",
    "Separated by commas\n"
   ]
  },
  {
   "cell_type": "code",
   "execution_count": 76,
   "metadata": {},
   "outputs": [
    {
     "name": "stdout",
     "output_type": "stream",
     "text": [
      "{1: 'Try', 2: 'Creating', 3: 'a', 4: 'Dictionary'}\n",
      "{'Name': 'Mohamed Fakhruldeen', 'Age': 39, 'Nationality': 'Egyptian'}\n"
     ]
    }
   ],
   "source": [
    "dict1 = {1: 'Try', 2: 'Creating', 3: 'a', 4:'Dictionary'}\n",
    "\n",
    "person1 = {'Name': 'Mohamed Fakhruldeen', 'Age': 39, 'Nationality':'Egyptian'}\n",
    "\n",
    "print(dict1)\n",
    "print(person1)"
   ]
  },
  {
   "cell_type": "code",
   "execution_count": 80,
   "metadata": {},
   "outputs": [
    {
     "name": "stdout",
     "output_type": "stream",
     "text": [
      "{'brand': 'Toyota', 'model': 'Corolla', 'year': 2017}\n",
      "Corolla\n",
      "{'brand': 'Toyota', 'model': 'Corolla', 'year': 2018}\n",
      "2018\n"
     ]
    }
   ],
   "source": [
    "cars1 = {\n",
    "  \"brand\": \"Toyota\",\n",
    "  \"model\": \"Corolla\",\n",
    "  \"year\": 2017\n",
    "}\n",
    "print(cars1)\n",
    "print(cars1[\"model\"])\n",
    "cars2 = {\n",
    "  \"brand\": \"Toyota\",\n",
    "  \"model\": \"Corolla\",\n",
    "  \"year\": 2017,\n",
    "  \"year\": 2018\n",
    "}\n",
    "print(cars2)\n",
    "print(cars2[\"year\"])"
   ]
  },
  {
   "cell_type": "markdown",
   "metadata": {},
   "source": [
    "### dict len"
   ]
  },
  {
   "cell_type": "code",
   "execution_count": 81,
   "metadata": {},
   "outputs": [
    {
     "name": "stdout",
     "output_type": "stream",
     "text": [
      "3\n"
     ]
    }
   ],
   "source": [
    "print(len(cars2))"
   ]
  },
  {
   "cell_type": "markdown",
   "metadata": {},
   "source": [
    "#### access elements in dict"
   ]
  },
  {
   "cell_type": "code",
   "execution_count": 82,
   "metadata": {},
   "outputs": [
    {
     "name": "stdout",
     "output_type": "stream",
     "text": [
      "Corolla\n",
      "Corolla\n"
     ]
    }
   ],
   "source": [
    "x = cars2[\"model\"]\n",
    "print(x)\n",
    "z = cars2.get(\"model\")\n",
    "print(z)"
   ]
  },
  {
   "cell_type": "markdown",
   "metadata": {},
   "source": [
    "#### get keys"
   ]
  },
  {
   "cell_type": "code",
   "execution_count": 83,
   "metadata": {},
   "outputs": [
    {
     "name": "stdout",
     "output_type": "stream",
     "text": [
      "dict_keys(['brand', 'model', 'year'])\n"
     ]
    }
   ],
   "source": [
    "a = cars1.keys()\n",
    "print(a)"
   ]
  },
  {
   "cell_type": "code",
   "execution_count": 86,
   "metadata": {},
   "outputs": [
    {
     "name": "stdout",
     "output_type": "stream",
     "text": [
      "brand\n"
     ]
    }
   ],
   "source": [
    "y,u,i = a\n",
    "print(y)"
   ]
  },
  {
   "cell_type": "markdown",
   "metadata": {},
   "source": [
    "#### get values\n"
   ]
  },
  {
   "cell_type": "code",
   "execution_count": 87,
   "metadata": {},
   "outputs": [
    {
     "name": "stdout",
     "output_type": "stream",
     "text": [
      "dict_values(['Toyota', 'Corolla', 2017])\n"
     ]
    }
   ],
   "source": [
    "x1 = cars1.values() \n",
    "print(x1)"
   ]
  },
  {
   "cell_type": "markdown",
   "metadata": {},
   "source": [
    "#### items in list"
   ]
  },
  {
   "cell_type": "code",
   "execution_count": 88,
   "metadata": {},
   "outputs": [
    {
     "name": "stdout",
     "output_type": "stream",
     "text": [
      "dict_items([('brand', 'Toyota'), ('model', 'Corolla'), ('year', 2017)])\n"
     ]
    }
   ],
   "source": [
    "x2 = cars1.items()\n",
    "print(x2)"
   ]
  },
  {
   "cell_type": "markdown",
   "metadata": {},
   "source": [
    "#### change value"
   ]
  },
  {
   "cell_type": "code",
   "execution_count": 91,
   "metadata": {},
   "outputs": [
    {
     "name": "stdout",
     "output_type": "stream",
     "text": [
      "{'brand': 'Ford', 'model': 'Mustang', 'year': 2018}\n",
      "{'brand': 'Test', 'model': 'Mustang', 'year': 2018}\n"
     ]
    }
   ],
   "source": [
    "car3 = {\n",
    "  \"brand\": \"Toyota\",\n",
    "  \"model\": \"Corolla\",\n",
    "  \"year\": 2017\n",
    "}\n",
    "car3[\"year\"] = 2018\n",
    "print(car3)\n",
    "car3.update({\"brand\": \"Test\"})\n",
    "print(car3)\n"
   ]
  },
  {
   "cell_type": "code",
   "execution_count": 92,
   "metadata": {},
   "outputs": [
    {
     "name": "stdout",
     "output_type": "stream",
     "text": [
      "{'brand': 'Ford', 'model': 'Mustang', 'year': {'year 1': 2018, 'year 2': 1976}}\n"
     ]
    }
   ],
   "source": [
    "car5 = {\n",
    "  \"brand\": \"Ford\",\n",
    "  \"model\": \"Mustang\",\n",
    "  \"year\": 1964\n",
    "}\n",
    "car5.update({\"year\": {\"year 1\": 2018, \"year 2\": 1976}}) \n",
    "print(car5)"
   ]
  },
  {
   "cell_type": "markdown",
   "metadata": {},
   "source": [
    "#### add new element"
   ]
  },
  {
   "cell_type": "code",
   "execution_count": 93,
   "metadata": {},
   "outputs": [
    {
     "name": "stdout",
     "output_type": "stream",
     "text": [
      "{'brand': 'Ford', 'model': 'Mustang', 'year': 1964, 'color': 'Blue'}\n"
     ]
    }
   ],
   "source": [
    "car6 = {\n",
    "  \"brand\": \"Toyota\",\n",
    "  \"model\": \"Corolla\",\n",
    "  \"year\": 2017\n",
    "}\n",
    "car6[\"color\"] = \"Blue\"\n",
    "print(car6)"
   ]
  },
  {
   "cell_type": "markdown",
   "metadata": {},
   "source": [
    "#### nested dicts"
   ]
  },
  {
   "cell_type": "code",
   "execution_count": 102,
   "metadata": {},
   "outputs": [
    {
     "name": "stdout",
     "output_type": "stream",
     "text": [
      "{'summer': {'name': 'watermelon', 'specs': {'color': 'red', 'taste': 'Sweet'}}}\n",
      "{'name': 'watermelon', 'specs': {'color': 'red', 'taste': 'Sweet'}}\n",
      "watermelon\n",
      "{'color': 'red', 'taste': 'Sweet'}\n",
      "red\n"
     ]
    }
   ],
   "source": [
    "fruits = {\"summer\": { \"name\":\"watermelon\", \"specs\" : { \"color\" : \"red\", \"taste\": \"Sweet\"\n",
    "        }\n",
    "    }\n",
    "}\n",
    "print(fruits)\n",
    "print(fruits[\"summer\"])\n",
    "print(fruits[\"summer\"][\"name\"])\n",
    "print(fruits[\"summer\"][\"specs\"])\n",
    "print(fruits[\"summer\"][\"specs\"][\"color\"])"
   ]
  },
  {
   "cell_type": "code",
   "execution_count": 120,
   "metadata": {},
   "outputs": [
    {
     "name": "stdout",
     "output_type": "stream",
     "text": [
      "{'child1': {'name': 'Ahmed', 'year': 2004}, 'child2': {'name': 'Ali', 'year': 2007}, 'child3': {'name': 'Shaymaa', 'year': 2011}}\n",
      "{'name': 'Ahmed', 'year': 2004}\n",
      "Ahmed\n"
     ]
    }
   ],
   "source": [
    "child1 = {\n",
    "  \"name\" : \"Ahmed\",\n",
    "  \"year\" : 2004\n",
    "}\n",
    "child2 = {\n",
    "  \"name\" : \"Ali\",\n",
    "  \"year\" : 2007\n",
    "}\n",
    "child3 = {\n",
    "  \"name\" : \"Shaymaa\",\n",
    "  \"year\" : 2011\n",
    "}\n",
    "\n",
    "myfamily = {\n",
    "  \"child1\" : child1,\n",
    "  \"child2\" : child2,\n",
    "  \"child3\" : child3\n",
    "} \n",
    "print(myfamily)\n",
    "print(myfamily[\"child1\"])\n",
    "print(myfamily[\"child1\"][\"name\"])"
   ]
  },
  {
   "cell_type": "markdown",
   "metadata": {},
   "source": [
    "#### remove items"
   ]
  },
  {
   "cell_type": "code",
   "execution_count": 108,
   "metadata": {},
   "outputs": [
    {
     "name": "stdout",
     "output_type": "stream",
     "text": [
      "{'brand': 'Ford', 'year': 1964, 'color': 'red'}\n",
      "{'brand': 'Ford', 'year': 1964}\n",
      "{'year': 1964}\n",
      "{}\n"
     ]
    }
   ],
   "source": [
    "cars8 = {\n",
    "  \"brand\": \"Toyota\",\n",
    "  \"model\": \"Corolla\",\n",
    "  \"year\": 2017,\n",
    "  \"color\": \"red\"\n",
    "}\n",
    "cars8.pop(\"model\")\n",
    "print(cars8) \n",
    "cars8.popitem() # last inserted item\n",
    "print(cars8) \n",
    "del cars8[\"brand\"]\n",
    "print(cars8) \n",
    "cars8.clear()\n",
    "print(cars8) "
   ]
  },
  {
   "cell_type": "markdown",
   "metadata": {},
   "source": [
    "#### copy dict"
   ]
  },
  {
   "cell_type": "code",
   "execution_count": 116,
   "metadata": {},
   "outputs": [
    {
     "name": "stdout",
     "output_type": "stream",
     "text": [
      "{'brand': 'Toyota', 'model': 'Corolla', 'year': 2017, 'color': 'red'}\n",
      "{'brand': 'BMW', 'model': 'Corolla', 'year': 2017, 'color': 'red'}\n",
      "{'brand': 'BMW', 'model': 'Corolla', 'year': 2017, 'color': 'red'}\n",
      "{'brand': 'BMW', 'model': 'Corolla', 'year': 2017, 'color': 'red'}\n",
      "{'brand': 'Toyota', 'model': 'Corolla', 'year': 2017, 'color': 'red'}\n",
      "{'brand': 'BMW', 'model': 'Corolla', 'year': 2017, 'color': 'red'}\n"
     ]
    }
   ],
   "source": [
    "cars8 = {\n",
    "  \"brand\": \"Toyota\",\n",
    "  \"model\": \"Corolla\",\n",
    "  \"year\": 2017,\n",
    "  \"color\": \"red\"\n",
    "}\n",
    "\n",
    "cars9 = cars8 ## can't do this\n",
    "print(cars9)\n",
    "cars9[\"brand\"] = \"BMW\"\n",
    "print(cars8)\n",
    "print(cars9) # problems!!!\n",
    "cars91 = cars9.copy()\n",
    "print(cars91)\n",
    "cars91[\"brand\"] = \"Toyota\"\n",
    "print(cars91)\n",
    "print(cars9)\n",
    "# or you can acheive the same\n",
    "# mydict = dict(thisdict)\n",
    "# print(mydict) \n"
   ]
  },
  {
   "cell_type": "code",
   "execution_count": null,
   "metadata": {},
   "outputs": [],
   "source": []
  }
 ],
 "metadata": {
  "kernelspec": {
   "display_name": "Python 3",
   "language": "python",
   "name": "python3"
  },
  "language_info": {
   "codemirror_mode": {
    "name": "ipython",
    "version": 3
   },
   "file_extension": ".py",
   "mimetype": "text/x-python",
   "name": "python",
   "nbconvert_exporter": "python",
   "pygments_lexer": "ipython3",
   "version": "3.8.8"
  }
 },
 "nbformat": 4,
 "nbformat_minor": 4
}
