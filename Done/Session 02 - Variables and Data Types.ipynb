{
 "cells": [
  {
   "cell_type": "markdown",
   "metadata": {},
   "source": [
    "<img src=\"https://drive.google.com/uc?id=1v7YY_rNBU2OMaPnbUGmzaBj3PUeddxrw\" alt=\"ITI MCIT EPITA\" style=\"width: 750px;\"/>\n",
    "\n",
    "---"
   ]
  },
  {
   "cell_type": "markdown",
   "metadata": {},
   "source": [
    "<img src=\"https://drive.google.com/uc?id=1R0-FYpJQW5YFy6Yv-RZ1rpyBslay0251\" alt=\"Python Logo\" style=\"width: 400px;\"/>\n",
    "\n",
    "___\n"
   ]
  },
  {
   "cell_type": "markdown",
   "metadata": {},
   "source": [
    "By: **Mohamed Fouad Fakhruldeen**, mohamed.fakhruldeen@epita.fr\n"
   ]
  },
  {
   "cell_type": "markdown",
   "metadata": {},
   "source": [
    "# Session 02: Variables & Data Types"
   ]
  },
  {
   "cell_type": "markdown",
   "metadata": {},
   "source": [
    "## Variables\n",
    "\n",
    "reserved location in the memory that stores a value. which can be easily retrieved later in the program.\n",
    "\n",
    "*python is not statically typed language* which means you don't need to declare the type or the variable before using them.\n",
    "\n",
    "every variable is an object (we will come to this point later)\n",
    "\n",
    "### variable names\n",
    "\n",
    "the variable name must follow the following criteria:\n",
    "1. must start with a letter or underscore\n",
    "2. can't start with a number\n",
    "3. only *alpha-numeric and underscore values* accepted (A-Z, a-z, 0-9, _ )\n",
    "4. case sensitive (ITI is different from iti) (EPITA is a different variable than epita)\n",
    "5. it can be one letter (x) or a name with a meaning (my_name)\n",
    "\n",
    "### variable assignment \n",
    "\n",
    "Assignment is done with a single equals sign (=)\n",
    "\n",
    "```x = 10``` means variable x is assigned the value of integer 10\n",
    "\n"
   ]
  },
  {
   "cell_type": "code",
   "execution_count": 31,
   "metadata": {},
   "outputs": [
    {
     "name": "stdout",
     "output_type": "stream",
     "text": [
      "2021\n",
      "22\n"
     ]
    }
   ],
   "source": [
    "year = 2021\n",
    "print(year)\n",
    "DOB = 1999\n",
    "print(year-DOB)\n"
   ]
  },
  {
   "cell_type": "code",
   "execution_count": 4,
   "metadata": {},
   "outputs": [
    {
     "ename": "SyntaxError",
     "evalue": "cannot assign to operator (<ipython-input-4-2b99104f985e>, line 4)",
     "output_type": "error",
     "traceback": [
      "\u001b[0;36m  File \u001b[0;32m\"<ipython-input-4-2b99104f985e>\"\u001b[0;36m, line \u001b[0;32m4\u001b[0m\n\u001b[0;31m    u-i  = 29\u001b[0m\n\u001b[0m    ^\u001b[0m\n\u001b[0;31mSyntaxError\u001b[0m\u001b[0;31m:\u001b[0m cannot assign to operator\n"
     ]
    }
   ],
   "source": [
    "x = True # valid\n",
    "_y = True # valid\n",
    "# 1u = False #not-valid starts with number\n",
    "# u-i  = 29 #not-valid starts with number\n",
    "# z = X # X (capital letter) is not same as x (small letter)\n"
   ]
  },
  {
   "cell_type": "markdown",
   "metadata": {},
   "source": [
    "you can even change type after the variable has been set.\n",
    "or (re-declaring) the variable"
   ]
  },
  {
   "cell_type": "code",
   "execution_count": 2,
   "metadata": {},
   "outputs": [
    {
     "name": "stdout",
     "output_type": "stream",
     "text": [
      "last year\n"
     ]
    }
   ],
   "source": [
    "year = \"last year\"\n",
    "print(year)"
   ]
  },
  {
   "cell_type": "markdown",
   "metadata": {},
   "source": [
    "assign values to multiple variables in one line"
   ]
  },
  {
   "cell_type": "code",
   "execution_count": 3,
   "metadata": {},
   "outputs": [
    {
     "name": "stdout",
     "output_type": "stream",
     "text": [
      "pass\n",
      "pass\n",
      "fail\n"
     ]
    }
   ],
   "source": [
    "ali, shaymaa, mohamed = \"pass\", \"pass\", \"fail\"\n",
    "print(ali)\n",
    "print(shaymaa)\n",
    "print(mohamed)"
   ]
  },
  {
   "cell_type": "markdown",
   "metadata": {},
   "source": [
    "assign one value to multiple variables"
   ]
  },
  {
   "cell_type": "code",
   "execution_count": 4,
   "metadata": {},
   "outputs": [
    {
     "name": "stdout",
     "output_type": "stream",
     "text": [
      "pass\n",
      "pass\n",
      "pass\n"
     ]
    }
   ],
   "source": [
    "mahmoud = zayed = saly = \"pass\"\n",
    "print(mahmoud)\n",
    "print(zayed)\n",
    "print(saly)"
   ]
  },
  {
   "cell_type": "code",
   "execution_count": 3,
   "metadata": {},
   "outputs": [
    {
     "name": "stdout",
     "output_type": "stream",
     "text": [
      "140533146372848\n",
      "0x7fd06c44caf0\n",
      "140533146372848 94603607682720 94603607682720\n",
      "0x7fd06c44caf0 0x560a9e6e2ea0 0x560a9e6e2ea0\n"
     ]
    }
   ],
   "source": [
    "x = 352\n",
    "# Return the “identity” of an object. \n",
    "# This is an integer which is guaranteed to be unique and constant for this object during its lifetime\n",
    "print(id(x))\n",
    "#Convert an integer number to a lowercase hexadecimal string prefixed with “0x”.\n",
    "print(hex(id(x)))\n",
    "z = 14\n",
    "y = 14\n",
    "print (id(x), id(z), id(y))\n",
    "print (hex(id(x)), hex(id(z)), hex(id(y)))"
   ]
  },
  {
   "cell_type": "markdown",
   "metadata": {},
   "source": [
    "### variable operators\n",
    "\n",
    "we can use variables in operators mentioned in session 01"
   ]
  },
  {
   "cell_type": "code",
   "execution_count": 2,
   "metadata": {},
   "outputs": [
    {
     "name": "stdout",
     "output_type": "stream",
     "text": [
      "False\n"
     ]
    }
   ],
   "source": [
    "x = 39\n",
    "y = 74\n",
    "print(x>y)"
   ]
  },
  {
   "cell_type": "code",
   "execution_count": 6,
   "metadata": {},
   "outputs": [
    {
     "name": "stdout",
     "output_type": "stream",
     "text": [
      "0.527027027027027\n"
     ]
    }
   ],
   "source": [
    "print(x/y)"
   ]
  },
  {
   "cell_type": "code",
   "execution_count": 7,
   "metadata": {},
   "outputs": [
    {
     "name": "stdout",
     "output_type": "stream",
     "text": [
      "113\n"
     ]
    }
   ],
   "source": [
    "print(x+y)"
   ]
  },
  {
   "cell_type": "code",
   "execution_count": 4,
   "metadata": {},
   "outputs": [
    {
     "name": "stdout",
     "output_type": "stream",
     "text": [
      "-35\n",
      "-35\n"
     ]
    }
   ],
   "source": [
    "z = x-y\n",
    "print(z)\n",
    "print(x-y)"
   ]
  },
  {
   "cell_type": "code",
   "execution_count": 9,
   "metadata": {},
   "outputs": [
    {
     "name": "stdout",
     "output_type": "stream",
     "text": [
      "31.400000000000002\n"
     ]
    }
   ],
   "source": [
    "pi = 3.14\n",
    "radius = 5\n",
    "circumference = 2*pi*radius\n",
    "print(circumference)"
   ]
  },
  {
   "cell_type": "code",
   "execution_count": 10,
   "metadata": {},
   "outputs": [
    {
     "name": "stdout",
     "output_type": "stream",
     "text": [
      "39\n",
      "58\n"
     ]
    }
   ],
   "source": [
    "print(x)\n",
    "s = 19\n",
    "s += x\n",
    "print(s)"
   ]
  },
  {
   "cell_type": "code",
   "execution_count": 11,
   "metadata": {},
   "outputs": [
    {
     "name": "stdout",
     "output_type": "stream",
     "text": [
      "welcome to the course\n",
      "welcome to the course\n"
     ]
    }
   ],
   "source": [
    "double_message = \"welcome to the course\" # double quotes\n",
    "single_message = 'welcome to the course' # Single Quote\n",
    "\n",
    "print(double_message)\n",
    "print(single_message)"
   ]
  },
  {
   "cell_type": "code",
   "execution_count": 12,
   "metadata": {},
   "outputs": [
    {
     "name": "stdout",
     "output_type": "stream",
     "text": [
      "It's AI-Pro 1st intake's 1st course !\n"
     ]
    }
   ],
   "source": [
    "print(\"It's AI-Pro 1st intake's 1st course !\")"
   ]
  },
  {
   "cell_type": "markdown",
   "metadata": {},
   "source": [
    "String Concatenation with variables (needs to be of same type)"
   ]
  },
  {
   "cell_type": "code",
   "execution_count": 13,
   "metadata": {},
   "outputs": [
    {
     "name": "stdout",
     "output_type": "stream",
     "text": [
      "Welcome, student\n",
      "Welcome, Mohamed.\n"
     ]
    }
   ],
   "source": [
    "welcome = \"Welcome, \"\n",
    "first_name = \"student\"\n",
    "print(welcome+first_name)\n",
    "print(welcome+\"Mohamed.\")"
   ]
  },
  {
   "cell_type": "markdown",
   "metadata": {},
   "source": [
    "### Variable Types\n",
    "\n",
    "A variable is created when you first assign a value to it.\n",
    "\n"
   ]
  },
  {
   "cell_type": "code",
   "execution_count": 14,
   "metadata": {},
   "outputs": [
    {
     "name": "stdout",
     "output_type": "stream",
     "text": [
      "<class 'int'>\n",
      "<class 'int'>\n",
      "<class 'float'>\n",
      "<class 'str'>\n"
     ]
    }
   ],
   "source": [
    "# variables declared before\n",
    "print(type(x))\n",
    "print(type(y))\n",
    "print(type(pi))\n",
    "print(type(welcome))"
   ]
  },
  {
   "cell_type": "markdown",
   "metadata": {},
   "source": [
    "#### Variable Type casting\n",
    "\n",
    "you can specify the data type of a variable"
   ]
  },
  {
   "cell_type": "code",
   "execution_count": 9,
   "metadata": {},
   "outputs": [
    {
     "name": "stdout",
     "output_type": "stream",
     "text": [
      "<class 'float'>\n",
      "<class 'str'>\n",
      "<class 'int'>\n",
      "10\n",
      "4.0\n",
      "Float value information:  sys.float_info(max=1.7976931348623157e+308, max_exp=1024, max_10_exp=308, min=2.2250738585072014e-308, min_exp=-1021, min_10_exp=-307, dig=15, mant_dig=53, epsilon=2.220446049250313e-16, radix=2, rounds=1)\n",
      "\n",
      "Integer value information:  sys.int_info(bits_per_digit=30, sizeof_digit=4)\n",
      "\n",
      "Maximum size of an integer:  9223372036854775807\n"
     ]
    }
   ],
   "source": [
    "print(type(x))\n",
    "x = str(x)\n",
    "print(type(x))\n",
    "x = 10\n",
    "print(type(x))\n",
    "print(x)\n",
    "x = float(4)\n",
    "print(x)\n",
    "import sys\n",
    "print(\"Float value information: \",sys.float_info)\n",
    "print(\"\\nInteger value information: \",sys.int_info)\n",
    "print(\"\\nMaximum size of an integer: \",sys.maxsize) "
   ]
  },
  {
   "cell_type": "code",
   "execution_count": 16,
   "metadata": {},
   "outputs": [
    {
     "ename": "ValueError",
     "evalue": "invalid literal for int() with base 10: 'welcome'",
     "output_type": "error",
     "traceback": [
      "\u001b[0;31m---------------------------------------------------------------------------\u001b[0m",
      "\u001b[0;31mValueError\u001b[0m                                Traceback (most recent call last)",
      "\u001b[0;32m<ipython-input-16-63060ab87e67>\u001b[0m in \u001b[0;36m<module>\u001b[0;34m\u001b[0m\n\u001b[1;32m      1\u001b[0m \u001b[0;31m# value error\u001b[0m\u001b[0;34m\u001b[0m\u001b[0;34m\u001b[0m\u001b[0;34m\u001b[0m\u001b[0m\n\u001b[0;32m----> 2\u001b[0;31m \u001b[0mmessage\u001b[0m \u001b[0;34m=\u001b[0m \u001b[0mint\u001b[0m\u001b[0;34m(\u001b[0m\u001b[0;34m\"welcome\"\u001b[0m\u001b[0;34m)\u001b[0m\u001b[0;34m\u001b[0m\u001b[0;34m\u001b[0m\u001b[0m\n\u001b[0m",
      "\u001b[0;31mValueError\u001b[0m: invalid literal for int() with base 10: 'welcome'"
     ]
    }
   ],
   "source": [
    "# value error\n",
    "message = int(\"welcome\")"
   ]
  },
  {
   "cell_type": "markdown",
   "metadata": {},
   "source": [
    "## Strings\n",
    "\n",
    "variable assigned string of text (characters)\n",
    "\n",
    "string is quoted inside single quotation marks, or double quotation marks\n",
    "\n",
    "strings are arrays (we will discuss this in future session)\n",
    "\n",
    "\n",
    "\n"
   ]
  },
  {
   "cell_type": "code",
   "execution_count": 6,
   "metadata": {},
   "outputs": [
    {
     "name": "stdout",
     "output_type": "stream",
     "text": [
      "Hello, World!\n",
      "Lorem ipsum dolor sit amet,\n",
      "consectetur adipiscing elit,\n",
      "sed do eiusmod tempor incididunt\n",
      "ut labore et dolore magna aliqua.\n"
     ]
    }
   ],
   "source": [
    "hello_world = \"Hello, World!\"\n",
    "print(hello_world)\n",
    "lorem_ipsum = \"\"\"Lorem ipsum dolor sit amet,\n",
    "consectetur adipiscing elit,\n",
    "sed do eiusmod tempor incididunt\n",
    "ut labore et dolore magna aliqua.\"\"\"\n",
    "print(lorem_ipsum) "
   ]
  },
  {
   "cell_type": "code",
   "execution_count": null,
   "metadata": {},
   "outputs": [],
   "source": [
    "print(len(lorem_ipsum)) #String Length"
   ]
  },
  {
   "cell_type": "code",
   "execution_count": null,
   "metadata": {},
   "outputs": [],
   "source": [
    "print(\"amet\" in lorem_ipsum) #check if in string"
   ]
  },
  {
   "cell_type": "code",
   "execution_count": null,
   "metadata": {},
   "outputs": [],
   "source": [
    "print(\"github\" not in lorem_ipsum) #check not in string"
   ]
  },
  {
   "cell_type": "code",
   "execution_count": 7,
   "metadata": {},
   "outputs": [
    {
     "name": "stdout",
     "output_type": "stream",
     "text": [
      "Python is\n",
      "Python\n"
     ]
    }
   ],
   "source": [
    "str02 = \"Python is very flexible for your needs\"\n",
    "print(str02[:9])\n",
    "print(str02[:9][:6])"
   ]
  },
  {
   "cell_type": "markdown",
   "metadata": {},
   "source": [
    "we can modify strings using built-in methods\n",
    "\n",
    "#### Modify strings\n",
    "\n"
   ]
  },
  {
   "cell_type": "code",
   "execution_count": 41,
   "metadata": {},
   "outputs": [
    {
     "name": "stdout",
     "output_type": "stream",
     "text": [
      "INTRODUCTION TO PYTHON\n"
     ]
    }
   ],
   "source": [
    "name = \"introduction to python\"\n",
    "print(name.upper())"
   ]
  },
  {
   "cell_type": "code",
   "execution_count": 10,
   "metadata": {},
   "outputs": [
    {
     "name": "stdout",
     "output_type": "stream",
     "text": [
      "  MOHAMED AHMED ALI  \n",
      "  mohamed ahmed ali  \n",
      "mohAMEd ahMed aLI\n",
      "  Mohamed Ahmed Ali  \n",
      "  MOHameD AHmED Ali  \n",
      "  mohamed ahmed ali  \n",
      "mohAMEd ahMed aLI\n",
      "Help on method_descriptor in str:\n",
      "\n",
      "str.casefold = casefold(self, /)\n",
      "    Return a version of the string suitable for caseless comparisons.\n",
      "\n",
      "Help on method_descriptor in str:\n",
      "\n",
      "str.swapcase = swapcase(self, /)\n",
      "    Convert uppercase characters to lowercase and lowercase characters to uppercase.\n",
      "\n"
     ]
    }
   ],
   "source": [
    "full_name = \"  mohAMEd ahMed aLI  \"\n",
    "print(full_name.upper()) # returns uppercased string\n",
    "print(full_name.capitalize()) # Converts first character to Capital Letter\n",
    "print(full_name.strip()) # Removes Both Leading and Trailing Characters\n",
    "print(full_name.title()) # Returns a Title Cased String\n",
    "print(full_name.swapcase()) # Convert uppercase characters to lowercase and lowercase characters to uppercase.\n",
    "print(full_name.casefold()) #Return a version of the string suitable for caseless comparisons.\n",
    "full_name = full_name.strip()\n",
    "print(full_name)\n",
    "help('str.casefold')\n",
    "help('str.swapcase')\n",
    "## how we can make changes in the variable values"
   ]
  },
  {
   "cell_type": "code",
   "execution_count": null,
   "metadata": {},
   "outputs": [],
   "source": [
    "first_name = \"moHAmed\"\n",
    "last_name = \"AhMEd\"\n",
    "full_name = first_name.title() + \" \" + last_name.title()\n",
    "print(\"Welcome, \" + full_name + \"!\")"
   ]
  },
  {
   "cell_type": "markdown",
   "metadata": {},
   "source": [
    "#### Escape Character\n",
    "\n",
    "An escape character is a backslash \\ followed by the character you want to insert. usually used when we want to use illegal character for example a single quote inside a string that's single-quoted."
   ]
  },
  {
   "cell_type": "code",
   "execution_count": null,
   "metadata": {},
   "outputs": [],
   "source": [
    "text = \"Hi, \\\"Student\\\" !\"\n",
    "print(text)"
   ]
  },
  {
   "cell_type": "markdown",
   "metadata": {},
   "source": [
    "some of commonly used escape character is\n",
    "\n",
    "    \\n for new line\n",
    "    \\t for horizontal tab\n"
   ]
  },
  {
   "cell_type": "markdown",
   "metadata": {},
   "source": [
    "## Numbers in variables\n",
    "\n",
    "### Integers\n",
    "\n",
    "    a whole number\n",
    "    positive or negative\n",
    "    without decimals\n",
    "\n"
   ]
  },
  {
   "cell_type": "code",
   "execution_count": 18,
   "metadata": {},
   "outputs": [
    {
     "name": "stdout",
     "output_type": "stream",
     "text": [
      "<class 'int'>\n",
      "<class 'int'>\n",
      "<class 'int'>\n"
     ]
    }
   ],
   "source": [
    "x = 19\n",
    "print(type(x))\n",
    "x = 494937830948393784763\n",
    "print(type(x))\n",
    "x = -398\n",
    "print(type(x))\n"
   ]
  },
  {
   "cell_type": "code",
   "execution_count": 22,
   "metadata": {},
   "outputs": [
    {
     "name": "stdout",
     "output_type": "stream",
     "text": [
      "24\n",
      "10\n",
      "18\n",
      "<class 'int'>\n",
      "52\n"
     ]
    }
   ],
   "source": [
    "x =  0b00011000 # binary\n",
    "print(x)\n",
    "y =  0o12 # octal\n",
    "print(y)\n",
    "z =  0x12 # hexadecimal\n",
    "print(z)\n",
    "print(type(z))\n",
    "print(x+y+z)"
   ]
  },
  {
   "cell_type": "code",
   "execution_count": 24,
   "metadata": {},
   "outputs": [],
   "source": [
    "#leading zero's in non-zero int is not valid\n",
    "# x = 07"
   ]
  },
  {
   "cell_type": "code",
   "execution_count": 25,
   "metadata": {},
   "outputs": [
    {
     "name": "stdout",
     "output_type": "stream",
     "text": [
      "1234567890\n"
     ]
    }
   ],
   "source": [
    "# no comma allowed\n",
    "# Use underscore _ as a delimiter instead\n",
    "x=1_234_567_890\n",
    "print(x)"
   ]
  },
  {
   "cell_type": "markdown",
   "metadata": {},
   "source": [
    "### floats\n",
    "\n",
    "    positive or negative\n",
    "    one or more decimals"
   ]
  },
  {
   "cell_type": "code",
   "execution_count": 15,
   "metadata": {},
   "outputs": [
    {
     "name": "stdout",
     "output_type": "stream",
     "text": [
      "<class 'float'>\n",
      "<class 'float'>\n",
      "<class 'float'>\n",
      "30000.0\n"
     ]
    }
   ],
   "source": [
    "y = 3.14\n",
    "print(type(y))\n",
    "y = 0.0000001\n",
    "print(type(y))\n",
    "y = -0.1\n",
    "print(type(y))\n",
    "print(3 * 100.e2)"
   ]
  },
  {
   "cell_type": "markdown",
   "metadata": {},
   "source": [
    "Floats has the maximum size depends on your system. The float beyond its maximum size referred as \"inf\", \"Inf\", \"INFINITY\", or \"infinity\". Float ```2e400``` will be considered as infinity for most systems."
   ]
  },
  {
   "cell_type": "code",
   "execution_count": 26,
   "metadata": {},
   "outputs": [
    {
     "name": "stdout",
     "output_type": "stream",
     "text": [
      "inf\n"
     ]
    }
   ],
   "source": [
    "f = 2e400\n",
    "print(f)"
   ]
  },
  {
   "cell_type": "markdown",
   "metadata": {},
   "source": [
    "for scientific purposes we can use float with e to indicate the power of 10"
   ]
  },
  {
   "cell_type": "code",
   "execution_count": null,
   "metadata": {},
   "outputs": [],
   "source": [
    "sci_y = 1384e4\n",
    "print(sci_y)\n",
    "print(type(sci_y))"
   ]
  },
  {
   "cell_type": "markdown",
   "metadata": {},
   "source": [
    "number type conversions"
   ]
  },
  {
   "cell_type": "code",
   "execution_count": null,
   "metadata": {},
   "outputs": [],
   "source": [
    "x = 49\n",
    "y = 7.74\n",
    "x = float(x)\n",
    "y = int(y)\n",
    "print(type(x))\n",
    "print(type(y))\n",
    "print(x)\n",
    "print(y)\n"
   ]
  },
  {
   "cell_type": "code",
   "execution_count": 33,
   "metadata": {},
   "outputs": [
    {
     "name": "stdout",
     "output_type": "stream",
     "text": [
      "87.9\n",
      "87\n",
      "37\n"
     ]
    }
   ],
   "source": [
    "print(round(87.93, 1))\n",
    "print(max(74,87))\n",
    "print(min(74,87,37,736))"
   ]
  },
  {
   "cell_type": "code",
   "execution_count": 30,
   "metadata": {},
   "outputs": [
    {
     "name": "stdout",
     "output_type": "stream",
     "text": [
      "(10+24j)\n"
     ]
    }
   ],
   "source": [
    "#complex numbers\n",
    "a=6+4j             \n",
    "b=3+2j             \n",
    "c=a*b              \n",
    "#c=(6+4j)*(3+2j)    \n",
    "#c=(18+12j+12j+8*-1)\n",
    "#c=10+24j\n",
    "print(c)"
   ]
  },
  {
   "cell_type": "markdown",
   "metadata": {},
   "source": [
    "### Boolean\n"
   ]
  },
  {
   "cell_type": "code",
   "execution_count": 5,
   "metadata": {},
   "outputs": [
    {
     "name": "stdout",
     "output_type": "stream",
     "text": [
      "True\n"
     ]
    }
   ],
   "source": [
    " print(bool(\"text goes here\"))"
   ]
  },
  {
   "cell_type": "code",
   "execution_count": 6,
   "metadata": {},
   "outputs": [
    {
     "name": "stdout",
     "output_type": "stream",
     "text": [
      "True\n"
     ]
    }
   ],
   "source": [
    " print(bool(1))"
   ]
  },
  {
   "cell_type": "code",
   "execution_count": 7,
   "metadata": {},
   "outputs": [
    {
     "name": "stdout",
     "output_type": "stream",
     "text": [
      "False\n"
     ]
    }
   ],
   "source": [
    " print(bool(0))"
   ]
  },
  {
   "cell_type": "code",
   "execution_count": 8,
   "metadata": {},
   "outputs": [
    {
     "name": "stdout",
     "output_type": "stream",
     "text": [
      "False\n"
     ]
    }
   ],
   "source": [
    " print(bool(\"\"))"
   ]
  },
  {
   "cell_type": "code",
   "execution_count": 9,
   "metadata": {},
   "outputs": [
    {
     "name": "stdout",
     "output_type": "stream",
     "text": [
      "True\n"
     ]
    }
   ],
   "source": [
    " print(bool(True))"
   ]
  },
  {
   "cell_type": "code",
   "execution_count": null,
   "metadata": {},
   "outputs": [],
   "source": [
    " print(bool(False))"
   ]
  },
  {
   "cell_type": "code",
   "execution_count": null,
   "metadata": {},
   "outputs": [],
   "source": [
    " print(bool(None))"
   ]
  },
  {
   "cell_type": "code",
   "execution_count": 12,
   "metadata": {},
   "outputs": [
    {
     "name": "stdout",
     "output_type": "stream",
     "text": [
      "True\n",
      "True\n",
      "False\n",
      "True\n",
      "False\n",
      "True\n",
      "True\n"
     ]
    }
   ],
   "source": [
    "x = True\n",
    "y = False\n",
    "z = True\n",
    "\n",
    "print(x or y)\n",
    "print(y or z)\n",
    "print(x and y)\n",
    "print(x and z)\n",
    "print(not x)\n",
    "print(not y)\n",
    "print(x and not y)"
   ]
  },
  {
   "cell_type": "markdown",
   "metadata": {},
   "source": [
    "#### isinstance()\n",
    "\n",
    "checks if the variable type is true or false"
   ]
  },
  {
   "cell_type": "code",
   "execution_count": 12,
   "metadata": {},
   "outputs": [
    {
     "name": "stdout",
     "output_type": "stream",
     "text": [
      "False\n"
     ]
    }
   ],
   "source": [
    "message = \"welcome\"\n",
    "print(isinstance(message, int))"
   ]
  },
  {
   "cell_type": "markdown",
   "metadata": {},
   "source": [
    "#### concatenating 2 variables of different types\n",
    "\n",
    "##### Using str() function\n"
   ]
  },
  {
   "cell_type": "code",
   "execution_count": 17,
   "metadata": {
    "scrolled": false
   },
   "outputs": [
    {
     "name": "stdout",
     "output_type": "stream",
     "text": [
      "Welcome Guest\n",
      "my phone number is: 521452145\n"
     ]
    }
   ],
   "source": [
    "my_string = \"my phone number is: \"\n",
    "my_decimal = 521452145\n",
    "print(\"Welcome\" + \" \" + \"Guest\")\n",
    "#print(my_string + my_decimal)\n",
    "print(my_string + str(my_decimal))"
   ]
  },
  {
   "cell_type": "markdown",
   "metadata": {},
   "source": [
    "##### Using % Operator"
   ]
  },
  {
   "cell_type": "code",
   "execution_count": 48,
   "metadata": {
    "scrolled": true
   },
   "outputs": [
    {
     "name": "stdout",
     "output_type": "stream",
     "text": [
      "my phone number is: 521452145\n"
     ]
    }
   ],
   "source": [
    "my_string = \"my phone number is: \"\n",
    "my_decimal = 521452145\n",
    "print(\"%s%d\" % (my_string, my_decimal))"
   ]
  },
  {
   "cell_type": "code",
   "execution_count": 53,
   "metadata": {},
   "outputs": [
    {
     "name": "stdout",
     "output_type": "stream",
     "text": [
      "my phone number is: 521452145\n"
     ]
    }
   ],
   "source": [
    "print(\"%s%s\" % (my_string, my_decimal))"
   ]
  },
  {
   "cell_type": "markdown",
   "metadata": {},
   "source": [
    "##### Using format() function"
   ]
  },
  {
   "cell_type": "code",
   "execution_count": 54,
   "metadata": {
    "scrolled": true
   },
   "outputs": [
    {
     "name": "stdout",
     "output_type": "stream",
     "text": [
      "my phone number is: 521452145\n"
     ]
    }
   ],
   "source": [
    "print(\"{}{}\".format(my_string, my_decimal))"
   ]
  },
  {
   "cell_type": "markdown",
   "metadata": {},
   "source": [
    "##### Using f-strings"
   ]
  },
  {
   "cell_type": "code",
   "execution_count": 55,
   "metadata": {},
   "outputs": [
    {
     "name": "stdout",
     "output_type": "stream",
     "text": [
      "my phone number is: 521452145\n"
     ]
    }
   ],
   "source": [
    "print(f'{my_string}{my_decimal}')"
   ]
  },
  {
   "cell_type": "code",
   "execution_count": 20,
   "metadata": {},
   "outputs": [
    {
     "name": "stdout",
     "output_type": "stream",
     "text": [
      "My Name is Mohamed and my age is 38\n"
     ]
    }
   ],
   "source": [
    "name = 'Mohamed'\n",
    "age = 38\n",
    "\n",
    "f_example = f'My Name is {name} and my age is {age}'\n",
    "print(f_example)"
   ]
  },
  {
   "cell_type": "markdown",
   "metadata": {},
   "source": [
    "### input"
   ]
  },
  {
   "cell_type": "code",
   "execution_count": 59,
   "metadata": {},
   "outputs": [
    {
     "name": "stdout",
     "output_type": "stream",
     "text": [
      "a\n"
     ]
    },
    {
     "ename": "ValueError",
     "evalue": "invalid literal for int() with base 10: 'a'",
     "output_type": "error",
     "traceback": [
      "\u001b[0;31m---------------------------------------------------------------------------\u001b[0m",
      "\u001b[0;31mValueError\u001b[0m                                Traceback (most recent call last)",
      "\u001b[0;32m<ipython-input-59-60511df13e4d>\u001b[0m in \u001b[0;36m<module>\u001b[0;34m\u001b[0m\n\u001b[1;32m      1\u001b[0m \u001b[0mx\u001b[0m \u001b[0;34m=\u001b[0m \u001b[0minput\u001b[0m\u001b[0;34m(\u001b[0m\u001b[0;34m)\u001b[0m\u001b[0;34m\u001b[0m\u001b[0;34m\u001b[0m\u001b[0m\n\u001b[0;32m----> 2\u001b[0;31m \u001b[0mprint\u001b[0m\u001b[0;34m(\u001b[0m\u001b[0mint\u001b[0m\u001b[0;34m(\u001b[0m\u001b[0mx\u001b[0m\u001b[0;34m)\u001b[0m\u001b[0;34m+\u001b[0m\u001b[0;36m2\u001b[0m\u001b[0;34m)\u001b[0m\u001b[0;34m\u001b[0m\u001b[0;34m\u001b[0m\u001b[0m\n\u001b[0m",
      "\u001b[0;31mValueError\u001b[0m: invalid literal for int() with base 10: 'a'"
     ]
    }
   ],
   "source": [
    "x = input()\n",
    "print(int(x)+2)"
   ]
  },
  {
   "cell_type": "code",
   "execution_count": 60,
   "metadata": {},
   "outputs": [
    {
     "name": "stdout",
     "output_type": "stream",
     "text": [
      "Type Your Message Herewelcome\n",
      "welcome\n"
     ]
    }
   ],
   "source": [
    "str = input(\"Type Your Message Here\")\n",
    "print(str)"
   ]
  },
  {
   "cell_type": "code",
   "execution_count": 61,
   "metadata": {},
   "outputs": [
    {
     "name": "stdout",
     "output_type": "stream",
     "text": [
      "Enter Your Name: Mohamed\n",
      "Welcome, Mohamed\n"
     ]
    }
   ],
   "source": [
    "print('Welcome, ' + input('Enter Your Name: '))"
   ]
  },
  {
   "cell_type": "code",
   "execution_count": 63,
   "metadata": {},
   "outputs": [
    {
     "name": "stdout",
     "output_type": "stream",
     "text": [
      "T U V X Y Z\n"
     ]
    },
    {
     "ename": "ValueError",
     "evalue": "too many values to unpack (expected 3)",
     "output_type": "error",
     "traceback": [
      "\u001b[0;31m---------------------------------------------------------------------------\u001b[0m",
      "\u001b[0;31mValueError\u001b[0m                                Traceback (most recent call last)",
      "\u001b[0;32m<ipython-input-63-4945b90d40b1>\u001b[0m in \u001b[0;36m<module>\u001b[0;34m\u001b[0m\n\u001b[0;32m----> 1\u001b[0;31m \u001b[0ma\u001b[0m\u001b[0;34m,\u001b[0m \u001b[0mb\u001b[0m\u001b[0;34m,\u001b[0m \u001b[0mc\u001b[0m \u001b[0;34m=\u001b[0m \u001b[0minput\u001b[0m\u001b[0;34m(\u001b[0m\u001b[0;34m)\u001b[0m\u001b[0;34m.\u001b[0m\u001b[0msplit\u001b[0m\u001b[0;34m(\u001b[0m\u001b[0;34m)\u001b[0m\u001b[0;34m\u001b[0m\u001b[0;34m\u001b[0m\u001b[0m\n\u001b[0m\u001b[1;32m      2\u001b[0m \u001b[0mprint\u001b[0m\u001b[0;34m(\u001b[0m\u001b[0mb\u001b[0m\u001b[0;34m)\u001b[0m\u001b[0;34m\u001b[0m\u001b[0;34m\u001b[0m\u001b[0m\n",
      "\u001b[0;31mValueError\u001b[0m: too many values to unpack (expected 3)"
     ]
    }
   ],
   "source": [
    "a, b, c = input().split()\n",
    "print(b)"
   ]
  },
  {
   "cell_type": "code",
   "execution_count": null,
   "metadata": {},
   "outputs": [],
   "source": [
    "a, b, c, d = map(float, input().split())"
   ]
  },
  {
   "cell_type": "code",
   "execution_count": null,
   "metadata": {},
   "outputs": [],
   "source": [
    "first = input('Enter first number: ')\n",
    "first = float(first)\n",
    "\n",
    "# let's make it in a single line\n",
    "second = float(input('Enter second number: '))\n",
    "\n",
    "print(first, '+', second, '=', first + second)\n",
    "print(first, '-', second, '=', first - second)\n",
    "print(first, '*', second, '=', first * second)\n",
    "print(first, '/', second, '=', first / second)\n",
    "\n",
    "print(\"\\nEnd of program\")\n",
    "\n"
   ]
  },
  {
   "cell_type": "code",
   "execution_count": null,
   "metadata": {},
   "outputs": [],
   "source": [
    "name1 = input(\"Enter the first stduent's name: \")\n",
    "id1 = input(\"Enter the first stduent's ID: \")\n",
    "grade1 = float(input(\"Enter the first stduent's grade: \"))\n",
    "\n",
    "name2 = input(\"\\nEnter the second stduent's name: \")\n",
    "id2 = input(\"Enter the second stduent's ID: \")\n",
    "grade2 = float(input(\"Enter the second stduent's grade: \"))\n",
    "\n",
    "print('\\n\\nInformat for students and their \"Math\" grades')\n",
    "msg = name1 + '(ID ' + id1 + ') got grade: ' + str(grade1)\n",
    "print(msg)\n",
    "msg = name2 + '(ID ' + id2 + ') got grade: ' + str(grade2)\n",
    "print(msg)\n",
    "\n",
    "average = (grade1 + grade2) / 2.0\n",
    "print('Average math grade is', average)\n"
   ]
  },
  {
   "cell_type": "code",
   "execution_count": 37,
   "metadata": {},
   "outputs": [
    {
     "name": "stdout",
     "output_type": "stream",
     "text": [
      "1\n",
      "2\n",
      "3\n",
      "1'2\"31'2\"31'2\"31'2\"31'2\"31'2\"31'2\"31'2\"31'2\"31'2\"3\n"
     ]
    }
   ],
   "source": [
    "A = input()\n",
    "B = input()\n",
    "C = input()\n",
    "\n",
    "combo = A + \"'\" + B + '\"' + C\n",
    "combo = combo * 10\n",
    "\n",
    "print(combo)\n"
   ]
  },
  {
   "cell_type": "code",
   "execution_count": 39,
   "metadata": {},
   "outputs": [
    {
     "name": "stdout",
     "output_type": "stream",
     "text": [
      "85 43 41 95\n",
      "a < b False\n"
     ]
    }
   ],
   "source": [
    "a, b, c, d = map(int, input().split())\n",
    "print('a < b is = ', a<b)"
   ]
  },
  {
   "cell_type": "code",
   "execution_count": null,
   "metadata": {},
   "outputs": [],
   "source": []
  }
 ],
 "metadata": {
  "kernelspec": {
   "display_name": "Python 3",
   "language": "python",
   "name": "python3"
  },
  "language_info": {
   "codemirror_mode": {
    "name": "ipython",
    "version": 3
   },
   "file_extension": ".py",
   "mimetype": "text/x-python",
   "name": "python",
   "nbconvert_exporter": "python",
   "pygments_lexer": "ipython3",
   "version": "3.8.8"
  },
  "widgets": {
   "application/vnd.jupyter.widget-state+json": {
    "state": {},
    "version_major": 2,
    "version_minor": 0
   }
  }
 },
 "nbformat": 4,
 "nbformat_minor": 4
}
