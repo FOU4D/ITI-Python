{
 "cells": [
  {
   "cell_type": "markdown",
   "metadata": {
    "nbgrader": {
     "grade": true,
     "grade_id": "cell-e01f27d7dcf15b4c",
     "locked": false,
     "points": 0,
     "schema_version": 3,
     "solution": true,
     "task": false
    }
   },
   "source": [
    "<img src=\"https://drive.google.com/uc?id=1v7YY_rNBU2OMaPnbUGmzaBj3PUeddxrw\" alt=\"ITI MCIT EPITA\" style=\"width: 750px;\"/>"
   ]
  },
  {
   "cell_type": "markdown",
   "metadata": {},
   "source": [
    "<img src=\"https://drive.google.com/uc?id=1R0-FYpJQW5YFy6Yv-RZ1rpyBslay0251\" alt=\"Python Logo\" style=\"width: 400px;\"/>\n",
    "\n",
    "-----\n",
    "\n",
    "## Session 06: OOP"
   ]
  },
  {
   "cell_type": "markdown",
   "metadata": {},
   "source": [
    "By: **Mohamed Fouad Fakhruldeen**, mohamed.fakhruldeen@epita.fr"
   ]
  },
  {
   "cell_type": "markdown",
   "metadata": {},
   "source": [
    "## Class & Object"
   ]
  },
  {
   "cell_type": "raw",
   "metadata": {},
   "source": [
    "class ClassName:\n",
    "    attributes\n",
    "    methods"
   ]
  },
  {
   "cell_type": "markdown",
   "metadata": {},
   "source": [
    "### attributes"
   ]
  },
  {
   "cell_type": "code",
   "execution_count": 18,
   "metadata": {},
   "outputs": [
    {
     "name": "stdout",
     "output_type": "stream",
     "text": [
      "<__main__.My_Class object at 0x7f47c80e8130>\n",
      "old Attribute Value Here\n",
      "New Attribute Value\n"
     ]
    }
   ],
   "source": [
    "class My_Class:\n",
    "    my_attr = \"old Attribute Value Here\"\n",
    "    \n",
    "x = My_Class()\n",
    "print(x)\n",
    "print(x.my_attr)\n",
    "x.my_attr = \"New Attribute Value\"\n",
    "print(x.my_attr)"
   ]
  },
  {
   "cell_type": "markdown",
   "metadata": {},
   "source": [
    "### methods"
   ]
  },
  {
   "cell_type": "code",
   "execution_count": 19,
   "metadata": {},
   "outputs": [
    {
     "name": "stdout",
     "output_type": "stream",
     "text": [
      "<__main__.My_Class object at 0x7f47c80e8280>\n",
      "New Attribute Value Here\n",
      "Print my method\n"
     ]
    }
   ],
   "source": [
    "class My_Class:\n",
    "    my_attr = \"New Attribute Value Here\" # class attribute\n",
    "    def my_method(self):\n",
    "        print(\"Print my method\")\n",
    "x = My_Class()\n",
    "print(x)\n",
    "print(x.my_attr)\n",
    "x.my_method()"
   ]
  },
  {
   "cell_type": "code",
   "execution_count": 31,
   "metadata": {},
   "outputs": [
    {
     "name": "stdout",
     "output_type": "stream",
     "text": [
      "Toyota\n",
      "Toyota Corolla made in 2016 with initial value 5000\n",
      "Toyota Corolla made in 2016 with initial value 5000 has new value 3500.0\n",
      "this only appears while printing\n",
      "this only appears while printing\n"
     ]
    }
   ],
   "source": [
    "class My_Cars:\n",
    "    \n",
    "    def __init__(self, brand, model, year, price): ## instance attributes\n",
    "        self.brand = brand\n",
    "        self.model = model\n",
    "        self.year = year\n",
    "        self.price = price\n",
    "        \n",
    "    \n",
    "    def description(self):\n",
    "        return f\"{self.brand} {self.model} made in {self.year} with initial value {self.price}\"\n",
    "    \n",
    "    def pricenow(self, condition):\n",
    "        return f\"{self.description()} has new value {condition*self.price}\"\n",
    "    \n",
    "    def __str__(self):\n",
    "        return \"this only appears while printing\"\n",
    "        \n",
    "first_car = My_Cars(\"Toyota\", \"Corolla\", 2016, 5000)\n",
    "print(first_car.brand)\n",
    "print(first_car.description())\n",
    "print(first_car.pricenow(70/100))\n",
    "print(first_car)\n",
    "x = str(first_car)\n",
    "print(x)\n"
   ]
  },
  {
   "cell_type": "markdown",
   "metadata": {},
   "source": [
    "### Inheritance"
   ]
  },
  {
   "cell_type": "markdown",
   "metadata": {},
   "source": [
    "Child classes can override or extend the attributes and methods of parent classes."
   ]
  },
  {
   "cell_type": "markdown",
   "metadata": {},
   "source": [
    "can also specify attributes and methods that are unique to themselves."
   ]
  },
  {
   "cell_type": "code",
   "execution_count": 32,
   "metadata": {},
   "outputs": [
    {
     "name": "stdout",
     "output_type": "stream",
     "text": [
      "this is parent attribute\n"
     ]
    }
   ],
   "source": [
    "class MainClass:\n",
    "    attr1 = \"this is parent attribute\"\n",
    "    \n",
    "class ChildClass(MainClass):\n",
    "    pass\n",
    "\n",
    "x = ChildClass()\n",
    "print(x.attr1)"
   ]
  },
  {
   "cell_type": "code",
   "execution_count": 33,
   "metadata": {},
   "outputs": [
    {
     "name": "stdout",
     "output_type": "stream",
     "text": [
      "This one from child\n"
     ]
    }
   ],
   "source": [
    "class MainClass2:\n",
    "    attr12 = \"this is parent attribute\"\n",
    "    \n",
    "class ChildClass2(MainClass2):\n",
    "    attr12 = \"This one from child\"\n",
    "\n",
    "x2 = ChildClass2()\n",
    "print(x2.attr12)"
   ]
  },
  {
   "cell_type": "markdown",
   "metadata": {},
   "source": [
    "### multiple inheretance"
   ]
  },
  {
   "cell_type": "raw",
   "metadata": {},
   "source": [
    "class Base1:\n",
    "    pass\n",
    "\n",
    "class Base2:\n",
    "    pass\n",
    "\n",
    "class MultiDerived(Base1, Base2):\n",
    "    pass"
   ]
  },
  {
   "cell_type": "raw",
   "metadata": {},
   "source": [
    "class Base:\n",
    "    pass\n",
    "\n",
    "class Derived1(Base):\n",
    "    pass\n",
    "\n",
    "class Derived2(Derived1):\n",
    "    pass"
   ]
  },
  {
   "cell_type": "markdown",
   "metadata": {},
   "source": [
    "check by: "
   ]
  },
  {
   "cell_type": "raw",
   "metadata": {},
   "source": [
    "MultiDerived.__mro__\n",
    "MultiDerived.mro()"
   ]
  },
  {
   "cell_type": "markdown",
   "metadata": {},
   "source": [
    "### Encapsulation"
   ]
  },
  {
   "cell_type": "markdown",
   "metadata": {},
   "source": [
    "we denote private attributes using underscore as the prefix i.e single _ or double __"
   ]
  },
  {
   "cell_type": "code",
   "execution_count": 34,
   "metadata": {},
   "outputs": [
    {
     "name": "stdout",
     "output_type": "stream",
     "text": [
      "Selling Price: 90000\n",
      "Selling Price: 90000\n",
      "Selling Price: 1000\n"
     ]
    }
   ],
   "source": [
    "class Cars:\n",
    "\n",
    "    def __init__(self):\n",
    "        self.__maxprice = 90000\n",
    "\n",
    "    def sell(self):\n",
    "        print(\"Selling Price: {}\".format(self.__maxprice))\n",
    "\n",
    "    def setMaxPrice(self, price):\n",
    "        self.__maxprice = price\n",
    "\n",
    "toyota = Cars()\n",
    "toyota.sell()\n",
    "\n",
    "# change the price\n",
    "toyota.__maxprice = 1000\n",
    "toyota.sell()\n",
    "\n",
    "# using setter function\n",
    "toyota.setMaxPrice(1000)\n",
    "toyota.sell()"
   ]
  },
  {
   "cell_type": "markdown",
   "metadata": {},
   "source": [
    "### polymorphism"
   ]
  },
  {
   "cell_type": "code",
   "execution_count": 35,
   "metadata": {},
   "outputs": [
    {
     "name": "stdout",
     "output_type": "stream",
     "text": [
      "Parrot can fly\n",
      "Penguin can't fly\n"
     ]
    }
   ],
   "source": [
    "class Parrot:\n",
    "\n",
    "    def fly(self):\n",
    "        print(\"Parrot can fly\")\n",
    "    \n",
    "    def swim(self):\n",
    "        print(\"Parrot can't swim\")\n",
    "\n",
    "class Penguin:\n",
    "\n",
    "    def fly(self):\n",
    "        print(\"Penguin can't fly\")\n",
    "    \n",
    "    def swim(self):\n",
    "        print(\"Penguin can swim\")\n",
    "\n",
    "# common interface\n",
    "def flying_test(bird):\n",
    "    bird.fly()\n",
    "\n",
    "#instantiate objects\n",
    "blu = Parrot()\n",
    "peggy = Penguin()\n",
    "\n",
    "# passing the object\n",
    "flying_test(blu)\n",
    "flying_test(peggy)"
   ]
  },
  {
   "cell_type": "markdown",
   "metadata": {},
   "source": [
    "In the above program, we defined two classes Parrot and Penguin. Each of them have a common fly() method. However, their functions are different.\n",
    "\n",
    "To use polymorphism, we created a common interface i.e flying_test() function that takes any object and calls the object's fly() method. Thus, when we passed the blu and peggy objects in the flying_test() function, it ran effectively.\n",
    "\n",
    "https://www.programiz.com/python-programming/object-oriented-programming"
   ]
  },
  {
   "cell_type": "code",
   "execution_count": null,
   "metadata": {},
   "outputs": [],
   "source": []
  }
 ],
 "metadata": {
  "kernelspec": {
   "display_name": "Python 3",
   "language": "python",
   "name": "python3"
  },
  "language_info": {
   "codemirror_mode": {
    "name": "ipython",
    "version": 3
   },
   "file_extension": ".py",
   "mimetype": "text/x-python",
   "name": "python",
   "nbconvert_exporter": "python",
   "pygments_lexer": "ipython3",
   "version": "3.8.8"
  }
 },
 "nbformat": 4,
 "nbformat_minor": 4
}
